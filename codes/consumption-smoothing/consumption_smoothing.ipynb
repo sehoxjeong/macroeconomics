{
 "cells": [
  {
   "cell_type": "markdown",
   "id": "9a0b13bb",
   "metadata": {},
   "source": [
    "### Consumption Smoothing Models\n",
    "\n",
    "Seho Jeong, Sogang University\n",
    "\n",
    "References:\n",
    "- Kwak, Jun Hee. 2025. \"Lectures on Macroeconomics.\" Sogang University.\n",
    "- Sargent, Thomas J. and John Stachurski. n.d. \"Consumption Smoothing.\" A First Course in Quantitative Economics with Python. https://intro.quantecon.org/cons_smooth.html"
   ]
  },
  {
   "cell_type": "code",
   "execution_count": 1,
   "id": "d6230e88",
   "metadata": {},
   "outputs": [],
   "source": [
    "import numpy as np\n",
    "import jax\n",
    "import jax.numpy as jnp\n",
    "import matplotlib.pyplot as plt\n",
    "from tqdm.auto import tqdm"
   ]
  },
  {
   "cell_type": "code",
   "execution_count": 2,
   "id": "00653b66",
   "metadata": {},
   "outputs": [],
   "source": [
    "jax.config.update('jax_enable_x64', True)"
   ]
  },
  {
   "cell_type": "markdown",
   "id": "9cd41d9b",
   "metadata": {},
   "source": [
    "#### Finite-Horizon Consumption-Savings Model"
   ]
  },
  {
   "cell_type": "markdown",
   "id": "10955edf",
   "metadata": {},
   "source": [
    "We assume CRRA utility here."
   ]
  },
  {
   "cell_type": "code",
   "execution_count": 20,
   "id": "982e0f81",
   "metadata": {},
   "outputs": [
    {
     "name": "stderr",
     "output_type": "stream",
     "text": [
      "/var/folders/n5/bkphn15s0kzc1lsr8x64v8y00000gn/T/ipykernel_2548/19613428.py:17: RuntimeWarning: divide by zero encountered in reciprocal\n",
      "  u = lambda c: np.where(c > 0, (c ** (1 - σ)) / (1 - σ), -np.inf) if σ != 1 else np.where(c > 0, np.log(c), -np.inf)\n"
     ]
    }
   ],
   "source": [
    "# Set parameters.\n",
    "\n",
    "T = 60       # planning horizon\n",
    "β = 0.96     # discount factor\n",
    "r = 0.02     # interest rate\n",
    "σ = 2.0      # CRRA coefficient\n",
    "w = 1.0      # constant labor income\n",
    "a_min = 0.0  # asset lower bound (= 0 for no borrowing)\n",
    "a_max = 20.0 # asset upper bound\n",
    "a_num = 801  # number of grid points for asset\n",
    "\n",
    "# Set grids.\n",
    "a_grid = np.linspace(a_min, a_max, a_num)                  # asset grid\n",
    "a_now, a_next = np.meshgrid(a_grid, a_grid, indexing='ij') # broadcast\n",
    "\n",
    "# Define utility.\n",
    "u = lambda c: np.where(c > 0, (c ** (1 - σ)) / (1 - σ), -np.inf) if σ != 1 else np.where(c > 0, np.log(c), -np.inf)\n",
    "\n",
    "# Initialize the value function and policy functions.\n",
    "V = np.empty((T + 1, a_num))\n",
    "c_policy = np.empty((T, a_num))\n",
    "a_policy = np.empty((T, a_num))\n",
    "\n",
    "# Terminal period: Consume everything.\n",
    "c_T = (1 + r) * a_grid + w\n",
    "V[T, :] = u(c_T)\n",
    "\n",
    "# BACKWARD INDUCTION\n",
    "for t in range(T-1, -1, -1):\n",
    "\n",
    "    # resources today for each current asset\n",
    "    res_now = (1 + r) * a_now + w\n",
    "\n",
    "    # consumption matrix for every (a_t, a_{t+1}) pair\n",
    "    c = res_now - a_next\n",
    "\n",
    "    # period utility + discounted continuation value\n",
    "    utility = u(c) + β ** (t + 1) * V[t+1]\n",
    "    \n",
    "    # Pick the best next-period index for each a_t.\n",
    "    best_idx = np.argmax(utility, axis=1)\n",
    "\n",
    "    # Store objects of interest.\n",
    "    V[t, :] = utility[np.arange(a_num), best_idx]\n",
    "    a_policy[t, :] = a_grid[best_idx]\n",
    "    c_policy[t, :] = res_now[np.arange(a_num), best_idx] - a_policy[t, :]"
   ]
  },
  {
   "cell_type": "code",
   "execution_count": 24,
   "id": "a18b1eca",
   "metadata": {},
   "outputs": [
    {
     "data": {
      "text/plain": [
       "[<matplotlib.lines.Line2D at 0x1468ce090>]"
      ]
     },
     "execution_count": 24,
     "metadata": {},
     "output_type": "execute_result"
    },
    {
     "data": {
      "image/png": "[encoded data removed]",
      "text/plain": [
       "<Figure size 640x480 with 1 Axes>"
      ]
     },
     "metadata": {},
     "output_type": "display_data"
    }
   ],
   "source": [
    "plt.plot(c_policy[0, :])"
   ]
  },
  {
   "cell_type": "markdown",
   "id": "6ece3dca",
   "metadata": {},
   "source": [
    "#### Infinite-Horizon Consumption-Savings Model"
   ]
  },
  {
   "cell_type": "markdown",
   "id": "5998ee2e",
   "metadata": {},
   "source": [
    "#### Consumption-Savings Model with Simple Borrowing Constraints"
   ]
  },
  {
   "cell_type": "markdown",
   "id": "20155954",
   "metadata": {},
   "source": []
  }
 ],
 "metadata": {
  "kernelspec": {
   "display_name": "base",
   "language": "python",
   "name": "python3"
  },
  "language_info": {
   "codemirror_mode": {
    "name": "ipython",
    "version": 3
   },
   "file_extension": ".py",
   "mimetype": "text/x-python",
   "name": "python",
   "nbconvert_exporter": "python",
   "pygments_lexer": "ipython3",
   "version": "3.12.7"
  }
 },
 "nbformat": 4,
 "nbformat_minor": 5
}
