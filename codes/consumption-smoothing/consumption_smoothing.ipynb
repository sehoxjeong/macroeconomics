{
 "cells": [
  {
   "cell_type": "markdown",
   "id": "9a0b13bb",
   "metadata": {},
   "source": [
    "### Consumption Smoothing Models\n",
    "\n",
    "Seho Jeong, Sogang University\n",
    "\n",
    "References:\n",
    "- **Kwak, Jun Hee. 2025.** \"Lectures on Macroeconomics.\" Sogang University.\n",
    "- **Sargent, Thomas J. and John Stachurski. n.d.** \"Consumption Smoothing.\" A First Course in Quantitative Economics with Python. https://intro.quantecon.org/cons_smooth.html\n",
    "- **Sargent, Thomas J., and John Stachurski. n.d.** \"Optimal Savings I: Value Function Iteration.\" Quantitative Economics with JAX. https://jax.quantecon.org/opt_savings_1.html.\n",
    "- **Sargent, Thomas J., and John Stachurski. n.d.** \"Optimal Savings II: Alternative Algorithms.\" Quantitative Economics with JAX. https://jax.quantecon.org/opt_savings_2.html."
   ]
  },
  {
   "cell_type": "code",
   "execution_count": 15,
   "id": "d6230e88",
   "metadata": {},
   "outputs": [],
   "source": [
    "# Import libraries.\n",
    "\n",
    "import numpy as np\n",
    "import jax\n",
    "import jax.numpy as jnp\n",
    "\n",
    "import matplotlib.pyplot as plt\n",
    "import seaborn as sns \n",
    "\n",
    "from dataclasses import dataclass\n",
    "\n",
    "from time import time\n",
    "from tqdm.auto import tqdm\n",
    "\n",
    "# from ..discretization.tauchen import tauchen\n",
    "import quantecon as qe"
   ]
  },
  {
   "cell_type": "code",
   "execution_count": 3,
   "id": "00653b66",
   "metadata": {},
   "outputs": [],
   "source": [
    "jax.config.update('jax_enable_x64', True)"
   ]
  },
  {
   "cell_type": "code",
   "execution_count": 4,
   "id": "146b2b96",
   "metadata": {},
   "outputs": [],
   "source": [
    "# Define customized colormap for plots.\n",
    "cm = ['#116FA1', '#2DC0D2', '#E0B266', '#00979F', '#70CAC6', '#005A7D']\n",
    "bg = '#F9F9F9'"
   ]
  },
  {
   "cell_type": "markdown",
   "id": "9cd41d9b",
   "metadata": {},
   "source": [
    "#### Finite-Horizon Consumption-Savings Model"
   ]
  },
  {
   "cell_type": "code",
   "execution_count": 14,
   "id": "55ec9a6b",
   "metadata": {},
   "outputs": [
    {
     "name": "stdout",
     "output_type": "stream",
     "text": [
      "c₀  = 1.000\n",
      "a₁* = 0.000\n"
     ]
    },
    {
     "name": "stderr",
     "output_type": "stream",
     "text": [
      "/var/folders/n5/bkphn15s0kzc1lsr8x64v8y00000gn/T/ipykernel_1263/1524877125.py:19: RuntimeWarning: divide by zero encountered in reciprocal\n",
      "  return np.where(c > 0, (c ** (1 - σ) - 1) / (1 - σ), -np.inf)\n"
     ]
    }
   ],
   "source": [
    "# Set parameters.\n",
    "T = 60   # planning horizon\n",
    "β = 0.96 # discount factor\n",
    "R = 1.02 # gross interest rate\n",
    "σ = 2.0  # CRRA\n",
    "w = 1.0  # labor income; wage\n",
    "\n",
    "# Set grids.\n",
    "amin, amax, anum = 0.0, 10.0, 100\n",
    "agrid = np.linspace(amin, amax, anum)\n",
    "\n",
    "# Define felicity.\n",
    "def u(c):\n",
    "    \"\"\"\n",
    "    period utility function\n",
    "    \"\"\"\n",
    "    if σ == 1:\n",
    "        return np.where(c > 0, np.log(c), -np.inf)\n",
    "    return np.where(c > 0, (c ** (1 - σ) - 1) / (1 - σ), -np.inf)\n",
    "\n",
    "# Initialize value and policy functions.\n",
    "V = np.zeros((T+2, anum))         \n",
    "a_policy_idx = np.zeros((T+1, anum))\n",
    "\n",
    "# Solve the problem using the backward induction.\n",
    "for t in range(T, -1, -1):\n",
    "\n",
    "    V_next = V[t+1]\n",
    "    V_now = np.empty((anum, ))\n",
    "    a_star_now = np.empty((anum, ))\n",
    "\n",
    "    for ai, a in enumerate(agrid):\n",
    "\n",
    "        c_vec = a * R + w - agrid   # consumption for every choice a_{t+1}\n",
    "        RHS = u(c_vec) + β * V_next\n",
    "\n",
    "        max_idx = RHS.argmax()      # index of maximizer a_{t+1}\n",
    "        max_value = RHS[max_idx]    # maximized value RHS(a_{t+1})\n",
    "\n",
    "        V_now[ai] = max_value\n",
    "        a_star_now[ai] = max_idx    # store the index of optimal choices\n",
    "    \n",
    "    V[t] = V_now\n",
    "    a_policy_idx[t] = a_star_now\n",
    "\n",
    "# Translate indices into actual asset levels.\n",
    "a_policy_val = agrid[a_policy_idx.astype(int)]\n",
    "\n",
    "idx0 = np.searchsorted(agrid, 0.0)\n",
    "print(f\"c₀  = { (R)*0 + w - a_policy_val[0,idx0]:.3f}\")\n",
    "print(f\"a₁* = { a_policy_val[0,idx0]:.3f}\")"
   ]
  },
  {
   "cell_type": "code",
   "execution_count": 15,
   "id": "b903de9d",
   "metadata": {},
   "outputs": [
    {
     "data": {
      "text/plain": [
       "[<matplotlib.lines.Line2D at 0x13a0a6450>]"
      ]
     },
     "execution_count": 15,
     "metadata": {},
     "output_type": "execute_result"
    },
    {
     "data": {
      "image/png": "[encoded data removed]",
      "text/plain": [
       "<Figure size 640x480 with 1 Axes>"
      ]
     },
     "metadata": {},
     "output_type": "display_data"
    }
   ],
   "source": [
    "plt.plot(a_policy_val[:, 40])"
   ]
  },
  {
   "cell_type": "markdown",
   "id": "6ece3dca",
   "metadata": {},
   "source": [
    "#### Infinite-Horizon Consumption-Savings Model"
   ]
  },
  {
   "cell_type": "markdown",
   "id": "527001bf",
   "metadata": {},
   "source": [
    "Here we solve the following problem:\n",
    "\n",
    "$$V(a, w) = \\max_{a' \\in [0, Ra + w]} \\left\\{ u(Ra + w - a') + \\beta \\mathbb E[V(a', w') \\vert w]\\right\\}$$\n",
    "\n",
    "where labor income $y$ follows a AR(1) process."
   ]
  },
  {
   "cell_type": "markdown",
   "id": "97727f55",
   "metadata": {},
   "source": [
    "##### NumPy Version using Value Function Iteration"
   ]
  },
  {
   "cell_type": "code",
   "execution_count": 8,
   "id": "bbd9a5fa",
   "metadata": {},
   "outputs": [],
   "source": [
    "def create_consumption_model(R=1.01,   # gross interest rate\n",
    "                            β=0.98,    # discount factor\n",
    "                            γ=2,       # CRRA parameter\n",
    "                            amin=0.01, # min. asset\n",
    "                            amax=5.0,  # max. asset\n",
    "                            anum=150,  # num. of grid points for asset\n",
    "                            ρ=0.9,     # wage persistence\n",
    "                            ν=0.1,     # wage volatility\n",
    "                            wnum=100): # num. of grid points for wage\n",
    "    \"\"\" \n",
    "    A function that takes in parameters and returns parameters and grids for the optimal savings problem\n",
    "    \"\"\"\n",
    "    # Build grids and transition probabilities.\n",
    "    agrid = np.linspace(amin, amax, anum)\n",
    "    mc = qe.tauchen(n=wnum, rho=ρ, sigma=ν)\n",
    "    wgrid, Q = np.exp(mc.state_values), mc.P\n",
    "\n",
    "    # Pack and return\n",
    "    params = β, R, γ\n",
    "    sizes = anum, wnum\n",
    "    arrays = agrid, wgrid, Q\n",
    "\n",
    "    return params, sizes, arrays"
   ]
  },
  {
   "cell_type": "code",
   "execution_count": 9,
   "id": "8d3ed221",
   "metadata": {},
   "outputs": [],
   "source": [
    "def B(V, params, sizes, arrays):\n",
    "    \"\"\" \n",
    "    A vectorized version of the RHS of the Bellman equation (before maximization), which is a 3D array representing\n",
    "\n",
    "        B(a, w, a') = u(Ra + w - a') + β E[V(a', w') | w]\n",
    "    \n",
    "    for all (a, w, a').\n",
    "    \"\"\"\n",
    "    # Unpack\n",
    "    β, R, γ = params\n",
    "    anum, wnum = sizes\n",
    "    agrid, wgrid, Q = arrays\n",
    "\n",
    "    # Compute current rewards r(a, w, ap) as array r[i, j, ip].\n",
    "    a = np.reshape(agrid, (anum, 1, 1))  # a[i]   -> a[i, j, ip]\n",
    "    w = np.reshape(wgrid, (1, wnum, 1))  # w[j]   -> w[i, j, ip]\n",
    "    ap = np.reshape(agrid, (1, 1, anum)) # ap[ip] -> ap[i, j, ip]\n",
    "    c = R * a + w - ap\n",
    "\n",
    "    # Calculate continuation rewards at all combinations of (a, w, ap).\n",
    "    V = np.reshape(V, (1, 1, anum, wnum)) # V[ip, jp] -> V[i, j, ip, jp]\n",
    "    Q = np.reshape(Q, (1, wnum, 1, wnum)) # Q[j, jp]  -> Q[i, j, ip, jp]\n",
    "    EV = np.sum(V * Q, axis=3)            # sum over last index jp\n",
    "\n",
    "    # Compute the right-hand side of the Bellman equation\n",
    "    return np.where(c > 0, (c ** (1 - γ)) / (1 - γ) + β * EV, -np.inf)"
   ]
  },
  {
   "cell_type": "code",
   "execution_count": 10,
   "id": "480746a7",
   "metadata": {},
   "outputs": [],
   "source": [
    "def T(V, params, sizes, arrays):\n",
    "    \"\"\" \n",
    "    The Bellman operator\n",
    "    \"\"\"\n",
    "    return np.max(B(V, params, sizes, arrays), axis=2)"
   ]
  },
  {
   "cell_type": "code",
   "execution_count": 11,
   "id": "e9147429",
   "metadata": {},
   "outputs": [],
   "source": [
    "def get_greedy(V, params, sizes, arrays):\n",
    "    \"\"\"\n",
    "    Compute a v-greedy policy, returned as a set of indices.\n",
    "    \"\"\"\n",
    "    return np.argmax(B(V, params, sizes, arrays), axis=2)"
   ]
  },
  {
   "cell_type": "code",
   "execution_count": 13,
   "id": "883bd866",
   "metadata": {},
   "outputs": [],
   "source": [
    "def value_function_iteration(model, max_iter=10_000, tol=1e-5):\n",
    "    \n",
    "    # Unpack the model\n",
    "    params, sizes, arrays = model\n",
    "    \n",
    "    V = np.zeros(sizes)\n",
    "    error = np.inf\n",
    "\n",
    "    for iteration in tqdm(range(max_iter)):\n",
    "\n",
    "        V_new = T(V, params, sizes, arrays)\n",
    "        error = np.max(np.abs(V_new - V))\n",
    "        V = V_new\n",
    "\n",
    "        if error < tol:\n",
    "            print(f'VFI completed in iteration {iteration}: error = {error}')\n",
    "            break\n",
    "\n",
    "    return V, get_greedy(V, params, sizes, arrays)"
   ]
  },
  {
   "cell_type": "code",
   "execution_count": 19,
   "id": "e89dc50d",
   "metadata": {},
   "outputs": [
    {
     "name": "stdout",
     "output_type": "stream",
     "text": [
      "Begin solving the model:\n"
     ]
    },
    {
     "data": {
      "application/vnd.jupyter.widget-view+json": {
       "model_id": "e05c9a82725a43c3b3dfe1235457171d",
       "version_major": 2,
       "version_minor": 0
      },
      "text/plain": [
       "  0%|          | 0/10000 [00:00<?, ?it/s]"
      ]
     },
     "metadata": {},
     "output_type": "display_data"
    },
    {
     "name": "stdout",
     "output_type": "stream",
     "text": [
      "VFI completed in iteration 571: error = 9.884726907216645e-06\n",
      "Total execution time: 3.16027 seconds.\n"
     ]
    }
   ],
   "source": [
    "model = create_consumption_model()\n",
    "\n",
    "print('Begin solving the model:')\n",
    "start = time()\n",
    "V_star, g_star = value_function_iteration(model)\n",
    "end = time()\n",
    "print(f'Total execution time: {end - start:.5f} seconds.')\n",
    "\n",
    "# Save the execution time.\n",
    "numpy_with_compile = end - start"
   ]
  },
  {
   "cell_type": "code",
   "execution_count": 26,
   "id": "76acdd9f",
   "metadata": {},
   "outputs": [],
   "source": [
    "# Unpack the model.\n",
    "params, sizes, arrays = model\n",
    "β, R, γ = params\n",
    "anum, wnum = sizes\n",
    "agrid, wgrid, Q = arrays"
   ]
  },
  {
   "cell_type": "code",
   "execution_count": 44,
   "id": "50a0bccb",
   "metadata": {},
   "outputs": [
    {
     "data": {
      "image/png": "[encoded data removed]",
      "text/plain": [
       "<Figure size 640x480 with 1 Axes>"
      ]
     },
     "metadata": {},
     "output_type": "display_data"
    }
   ],
   "source": [
    "# Plot the policy function.\n",
    "fig, ax = plt.subplots()\n",
    "\n",
    "ax.plot(agrid, agrid, color='gray', ls='--', lw=1, label='45°')\n",
    "ax.plot(agrid, agrid[g_star[:, 0]], label=r'$g(\\cdot, w_1)$', color=cm[0])\n",
    "ax.plot(agrid, agrid[g_star[:, -1]], label=r'$g(\\cdot, w_N)$', color=cm[1])\n",
    "\n",
    "ax.legend(fancybox=False, edgecolor='k')\n",
    "ax.set_xmargin(0)"
   ]
  },
  {
   "cell_type": "markdown",
   "id": "49a52e56",
   "metadata": {},
   "source": [
    "##### JAX Version using Value Function Iteration"
   ]
  },
  {
   "cell_type": "code",
   "execution_count": null,
   "id": "ce48573a",
   "metadata": {},
   "outputs": [],
   "source": []
  }
 ],
 "metadata": {
  "kernelspec": {
   "display_name": "base",
   "language": "python",
   "name": "python3"
  },
  "language_info": {
   "codemirror_mode": {
    "name": "ipython",
    "version": 3
   },
   "file_extension": ".py",
   "mimetype": "text/x-python",
   "name": "python",
   "nbconvert_exporter": "python",
   "pygments_lexer": "ipython3",
   "version": "3.12.7"
  }
 },
 "nbformat": 4,
 "nbformat_minor": 5
}
