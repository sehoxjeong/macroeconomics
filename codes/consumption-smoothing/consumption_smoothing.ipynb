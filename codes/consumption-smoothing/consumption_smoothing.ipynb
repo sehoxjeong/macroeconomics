{
 "cells": [
  {
   "cell_type": "markdown",
   "id": "9a0b13bb",
   "metadata": {},
   "source": [
    "### Consumption Smoothing Models\n",
    "\n",
    "Seho Jeong, Sogang University\n",
    "\n",
    "References:\n",
    "- **Kwak, Jun Hee. 2025.** \"Lectures on Macroeconomics.\" Sogang University.\n",
    "- **Sargent, Thomas J. and John Stachurski. n.d.** \"Consumption Smoothing.\" A First Course in Quantitative Economics with Python. https://intro.quantecon.org/cons_smooth.html\n",
    "- **Sargent, Thomas J., and John Stachurski. n.d.** \"Optimal Savings I: Value Function Iteration.\" Quantitative Economics with JAX. https://jax.quantecon.org/opt_savings_1.html.\n",
    "- **Sargent, Thomas J., and John Stachurski. n.d.** \"Optimal Savings II: Alternative Algorithms.\" Quantitative Economics with JAX. https://jax.quantecon.org/opt_savings_2.html."
   ]
  },
  {
   "cell_type": "code",
   "execution_count": 55,
   "id": "d6230e88",
   "metadata": {},
   "outputs": [],
   "source": [
    "# Import libraries.\n",
    "\n",
    "import numpy as np\n",
    "import jax\n",
    "import jax.numpy as jnp\n",
    "from functools import partial\n",
    "\n",
    "import matplotlib.pyplot as plt\n",
    "import seaborn as sns \n",
    "\n",
    "from dataclasses import dataclass\n",
    "\n",
    "from time import time\n",
    "from tqdm.auto import tqdm\n",
    "\n",
    "# from ..discretization.tauchen import tauchen\n",
    "import quantecon as qe"
   ]
  },
  {
   "cell_type": "code",
   "execution_count": 3,
   "id": "00653b66",
   "metadata": {},
   "outputs": [],
   "source": [
    "jax.config.update('jax_enable_x64', True)"
   ]
  },
  {
   "cell_type": "code",
   "execution_count": 4,
   "id": "146b2b96",
   "metadata": {},
   "outputs": [],
   "source": [
    "# Define customized colormap for plots.\n",
    "cm = ['#116FA1', '#2DC0D2', '#E0B266', '#00979F', '#70CAC6', '#005A7D']\n",
    "bg = '#F9F9F9'"
   ]
  },
  {
   "cell_type": "markdown",
   "id": "9cd41d9b",
   "metadata": {},
   "source": [
    "#### Finite-Horizon Consumption-Savings Model"
   ]
  },
  {
   "cell_type": "code",
   "execution_count": 14,
   "id": "55ec9a6b",
   "metadata": {},
   "outputs": [
    {
     "name": "stdout",
     "output_type": "stream",
     "text": [
      "c₀  = 1.000\n",
      "a₁* = 0.000\n"
     ]
    },
    {
     "name": "stderr",
     "output_type": "stream",
     "text": [
      "/var/folders/n5/bkphn15s0kzc1lsr8x64v8y00000gn/T/ipykernel_1263/1524877125.py:19: RuntimeWarning: divide by zero encountered in reciprocal\n",
      "  return np.where(c > 0, (c ** (1 - σ) - 1) / (1 - σ), -np.inf)\n"
     ]
    }
   ],
   "source": [
    "# Set parameters.\n",
    "T = 60   # planning horizon\n",
    "β = 0.96 # discount factor\n",
    "R = 1.02 # gross interest rate\n",
    "σ = 2.0  # CRRA\n",
    "w = 1.0  # labor income; wage\n",
    "\n",
    "# Set grids.\n",
    "amin, amax, anum = 0.0, 10.0, 100\n",
    "agrid = np.linspace(amin, amax, anum)\n",
    "\n",
    "# Define felicity.\n",
    "def u(c):\n",
    "    \"\"\"\n",
    "    period utility function\n",
    "    \"\"\"\n",
    "    if σ == 1:\n",
    "        return np.where(c > 0, np.log(c), -np.inf)\n",
    "    return np.where(c > 0, (c ** (1 - σ) - 1) / (1 - σ), -np.inf)\n",
    "\n",
    "# Initialize value and policy functions.\n",
    "V = np.zeros((T+2, anum))         \n",
    "a_policy_idx = np.zeros((T+1, anum))\n",
    "\n",
    "# Solve the problem using the backward induction.\n",
    "for t in range(T, -1, -1):\n",
    "\n",
    "    V_next = V[t+1]\n",
    "    V_now = np.empty((anum, ))\n",
    "    a_star_now = np.empty((anum, ))\n",
    "\n",
    "    for ai, a in enumerate(agrid):\n",
    "\n",
    "        c_vec = a * R + w - agrid   # consumption for every choice a_{t+1}\n",
    "        RHS = u(c_vec) + β * V_next\n",
    "\n",
    "        max_idx = RHS.argmax()      # index of maximizer a_{t+1}\n",
    "        max_value = RHS[max_idx]    # maximized value RHS(a_{t+1})\n",
    "\n",
    "        V_now[ai] = max_value\n",
    "        a_star_now[ai] = max_idx    # store the index of optimal choices\n",
    "    \n",
    "    V[t] = V_now\n",
    "    a_policy_idx[t] = a_star_now\n",
    "\n",
    "# Translate indices into actual asset levels.\n",
    "a_policy_val = agrid[a_policy_idx.astype(int)]\n",
    "\n",
    "idx0 = np.searchsorted(agrid, 0.0)\n",
    "print(f\"c₀  = { (R)*0 + w - a_policy_val[0,idx0]:.3f}\")\n",
    "print(f\"a₁* = { a_policy_val[0,idx0]:.3f}\")"
   ]
  },
  {
   "cell_type": "code",
   "execution_count": 15,
   "id": "b903de9d",
   "metadata": {},
   "outputs": [
    {
     "data": {
      "text/plain": [
       "[<matplotlib.lines.Line2D at 0x13a0a6450>]"
      ]
     },
     "execution_count": 15,
     "metadata": {},
     "output_type": "execute_result"
    },
    {
     "data": {
      "image/png": "[encoded data removed]",
      "text/plain": [
       "<Figure size 640x480 with 1 Axes>"
      ]
     },
     "metadata": {},
     "output_type": "display_data"
    }
   ],
   "source": [
    "plt.plot(a_policy_val[:, 40])"
   ]
  },
  {
   "cell_type": "markdown",
   "id": "6ece3dca",
   "metadata": {},
   "source": [
    "#### Infinite-Horizon Consumption-Savings Model"
   ]
  },
  {
   "cell_type": "markdown",
   "id": "527001bf",
   "metadata": {},
   "source": [
    "Here we solve the following problem:\n",
    "\n",
    "$$V(a, w) = \\max_{a' \\in [0, Ra + w]} \\left\\{ u(Ra + w - a') + \\beta \\mathbb E[V(a', w') \\vert w]\\right\\}$$\n",
    "\n",
    "where labor income $y$ follows a AR(1) process."
   ]
  },
  {
   "cell_type": "markdown",
   "id": "97727f55",
   "metadata": {},
   "source": [
    "##### NumPy Version using Value Function Iteration"
   ]
  },
  {
   "cell_type": "code",
   "execution_count": 8,
   "id": "bbd9a5fa",
   "metadata": {},
   "outputs": [],
   "source": [
    "def create_consumption_model(R=1.01,   # gross interest rate\n",
    "                            β=0.98,    # discount factor\n",
    "                            γ=2,       # CRRA parameter\n",
    "                            amin=0.01, # min. asset\n",
    "                            amax=5.0,  # max. asset\n",
    "                            anum=150,  # num. of grid points for asset\n",
    "                            ρ=0.9,     # wage persistence\n",
    "                            ν=0.1,     # wage volatility\n",
    "                            wnum=100): # num. of grid points for wage\n",
    "    \"\"\" \n",
    "    A function that takes in parameters and returns parameters and grids for the optimal savings problem\n",
    "    \"\"\"\n",
    "    # Build grids and transition probabilities.\n",
    "    agrid = np.linspace(amin, amax, anum)\n",
    "    mc = qe.tauchen(n=wnum, rho=ρ, sigma=ν)\n",
    "    wgrid, Q = np.exp(mc.state_values), mc.P\n",
    "\n",
    "    # Pack and return\n",
    "    params = β, R, γ\n",
    "    sizes = anum, wnum\n",
    "    arrays = agrid, wgrid, Q\n",
    "\n",
    "    return params, sizes, arrays"
   ]
  },
  {
   "cell_type": "code",
   "execution_count": 9,
   "id": "8d3ed221",
   "metadata": {},
   "outputs": [],
   "source": [
    "def B(V, params, sizes, arrays):\n",
    "    \"\"\" \n",
    "    A vectorized version of the RHS of the Bellman equation (before maximization), which is a 3D array representing\n",
    "\n",
    "        B(a, w, a') = u(Ra + w - a') + β E[V(a', w') | w]\n",
    "    \n",
    "    for all (a, w, a').\n",
    "    \"\"\"\n",
    "    # Unpack\n",
    "    β, R, γ = params\n",
    "    anum, wnum = sizes\n",
    "    agrid, wgrid, Q = arrays\n",
    "\n",
    "    # Compute current rewards r(a, w, ap) as array r[i, j, ip].\n",
    "    a = np.reshape(agrid, (anum, 1, 1))  # a[i]   -> a[i, j, ip]\n",
    "    w = np.reshape(wgrid, (1, wnum, 1))  # w[j]   -> w[i, j, ip]\n",
    "    ap = np.reshape(agrid, (1, 1, anum)) # ap[ip] -> ap[i, j, ip]\n",
    "    c = R * a + w - ap\n",
    "\n",
    "    # Calculate continuation rewards at all combinations of (a, w, ap).\n",
    "    V = np.reshape(V, (1, 1, anum, wnum)) # V[ip, jp] -> V[i, j, ip, jp]\n",
    "    Q = np.reshape(Q, (1, wnum, 1, wnum)) # Q[j, jp]  -> Q[i, j, ip, jp]\n",
    "    EV = np.sum(V * Q, axis=3)            # sum over last index jp\n",
    "\n",
    "    # Compute the right-hand side of the Bellman equation\n",
    "    return np.where(c > 0, (c ** (1 - γ)) / (1 - γ) + β * EV, -np.inf)"
   ]
  },
  {
   "cell_type": "code",
   "execution_count": 10,
   "id": "480746a7",
   "metadata": {},
   "outputs": [],
   "source": [
    "def T(V, params, sizes, arrays):\n",
    "    \"\"\" \n",
    "    The Bellman operator\n",
    "    \"\"\"\n",
    "    return np.max(B(V, params, sizes, arrays), axis=2)"
   ]
  },
  {
   "cell_type": "code",
   "execution_count": 11,
   "id": "e9147429",
   "metadata": {},
   "outputs": [],
   "source": [
    "def get_greedy(V, params, sizes, arrays):\n",
    "    \"\"\"\n",
    "    Compute a v-greedy policy, returned as a set of indices.\n",
    "    \"\"\"\n",
    "    return np.argmax(B(V, params, sizes, arrays), axis=2)"
   ]
  },
  {
   "cell_type": "code",
   "execution_count": 13,
   "id": "883bd866",
   "metadata": {},
   "outputs": [],
   "source": [
    "def value_function_iteration(model, max_iter=10_000, tol=1e-5):\n",
    "    \n",
    "    # Unpack the model\n",
    "    params, sizes, arrays = model\n",
    "    \n",
    "    V = np.zeros(sizes)\n",
    "    error = np.inf\n",
    "\n",
    "    for iteration in tqdm(range(max_iter)):\n",
    "\n",
    "        V_new = T(V, params, sizes, arrays)\n",
    "        error = np.max(np.abs(V_new - V))\n",
    "        V = V_new\n",
    "\n",
    "        if error < tol:\n",
    "            print(f'VFI completed in iteration {iteration}: error = {error}')\n",
    "            break\n",
    "\n",
    "    return V, get_greedy(V, params, sizes, arrays)"
   ]
  },
  {
   "cell_type": "code",
   "execution_count": 19,
   "id": "e89dc50d",
   "metadata": {},
   "outputs": [
    {
     "name": "stdout",
     "output_type": "stream",
     "text": [
      "Begin solving the model:\n"
     ]
    },
    {
     "data": {
      "application/vnd.jupyter.widget-view+json": {
       "model_id": "e05c9a82725a43c3b3dfe1235457171d",
       "version_major": 2,
       "version_minor": 0
      },
      "text/plain": [
       "  0%|          | 0/10000 [00:00<?, ?it/s]"
      ]
     },
     "metadata": {},
     "output_type": "display_data"
    },
    {
     "name": "stdout",
     "output_type": "stream",
     "text": [
      "VFI completed in iteration 571: error = 9.884726907216645e-06\n",
      "Total execution time: 3.16027 seconds.\n"
     ]
    }
   ],
   "source": [
    "model = create_consumption_model()\n",
    "\n",
    "print('Begin solving the model:')\n",
    "start = time()\n",
    "V_star, g_star = value_function_iteration(model)\n",
    "end = time()\n",
    "print(f'Total execution time: {end - start:.5f} seconds.')\n",
    "\n",
    "# Save the execution time.\n",
    "numpy_with_compile = end - start"
   ]
  },
  {
   "cell_type": "code",
   "execution_count": 26,
   "id": "76acdd9f",
   "metadata": {},
   "outputs": [],
   "source": [
    "# Unpack the model.\n",
    "params, sizes, arrays = model\n",
    "β, R, γ = params\n",
    "anum, wnum = sizes\n",
    "agrid, wgrid, Q = arrays"
   ]
  },
  {
   "cell_type": "code",
   "execution_count": 50,
   "id": "50a0bccb",
   "metadata": {},
   "outputs": [
    {
     "data": {
      "image/png": "[encoded data removed]",
      "text/plain": [
       "<Figure size 640x480 with 1 Axes>"
      ]
     },
     "metadata": {},
     "output_type": "display_data"
    }
   ],
   "source": [
    "# Plot the policy function.\n",
    "fig, ax = plt.subplots()\n",
    "\n",
    "ax.plot(agrid, agrid, color='gray', ls='--', lw=1, label='45°')\n",
    "ax.plot(agrid, agrid[g_star[:, 0]], label=r'$g(\\cdot, w_1)$', color=cm[0])\n",
    "ax.plot(agrid, agrid[g_star[:, -1]], label=r'$g(\\cdot, w_N)$', color=cm[1])\n",
    "\n",
    "ax.legend(fancybox=False, edgecolor='k')\n",
    "ax.set_facecolor(bg)\n",
    "ax.set_xmargin(0)\n",
    "ax.set_xlabel(r'$a$')\n",
    "ax.set_ylabel(r\"$a'$\")\n",
    "\n",
    "plt.show()"
   ]
  },
  {
   "cell_type": "markdown",
   "id": "49a52e56",
   "metadata": {},
   "source": [
    "##### JAX Version using Value Function Iteration"
   ]
  },
  {
   "cell_type": "code",
   "execution_count": 52,
   "id": "ce48573a",
   "metadata": {},
   "outputs": [],
   "source": [
    "# Re-define `create_consumption_model` to produce JAX arrays.\n",
    "\n",
    "def create_consumption_model(R=1.01,   # gross interest rate\n",
    "                            β=0.98,    # discount factor\n",
    "                            γ=2,       # CRRA parameter\n",
    "                            amin=0.01, # min. asset\n",
    "                            amax=5.0,  # max. asset\n",
    "                            anum=150,  # num. of grid points for asset\n",
    "                            ρ=0.9,     # wage persistence\n",
    "                            ν=0.1,     # wage volatility\n",
    "                            wnum=100): # num. of grid points for wage\n",
    "    \"\"\" \n",
    "    A function that takes in parameters and returns parameters and grids for the optimal savings problem\n",
    "    \"\"\"\n",
    "    # Build grids and transition probabilities.\n",
    "    agrid = jnp.linspace(amin, amax, anum)\n",
    "    mc = qe.tauchen(n=wnum, rho=ρ, sigma=ν)\n",
    "    wgrid, Q = jnp.exp(mc.state_values), jax.device_put(mc.P)\n",
    "\n",
    "    # Pack and return\n",
    "    params = β, R, γ\n",
    "    sizes = anum, wnum\n",
    "    arrays = agrid, wgrid, Q\n",
    "\n",
    "    return params, sizes, arrays"
   ]
  },
  {
   "cell_type": "code",
   "execution_count": 56,
   "id": "4bae10a4",
   "metadata": {},
   "outputs": [],
   "source": [
    "@partial(jax.jit, static_argnums=(2, ))\n",
    "def B(V, params, sizes, arrays):\n",
    "    \"\"\" \n",
    "    A vectorized version of the RHS of the Bellman equation (before maximization), which is a 3D array representing\n",
    "\n",
    "        B(a, w, a') = u(Ra + w - a') + β E[V(a', w') | w]\n",
    "    \n",
    "    for all (a, w, a').\n",
    "    \"\"\"\n",
    "    # Unpack\n",
    "    β, R, γ = params\n",
    "    anum, wnum = sizes\n",
    "    agrid, wgrid, Q = arrays\n",
    "\n",
    "    # Compute current rewards r(a, w, ap) as array r[i, j, ip].\n",
    "    a = jnp.reshape(agrid, (anum, 1, 1))  # a[i]   -> a[i, j, ip]\n",
    "    w = jnp.reshape(wgrid, (1, wnum, 1))  # w[j]   -> w[i, j, ip]\n",
    "    ap = jnp.reshape(agrid, (1, 1, anum)) # ap[ip] -> ap[i, j, ip]\n",
    "    c = R * a + w - ap\n",
    "\n",
    "    # Calculate continuation rewards at all combinations of (a, w, ap).\n",
    "    V = jnp.reshape(V, (1, 1, anum, wnum)) # V[ip, jp] -> V[i, j, ip, jp]\n",
    "    Q = jnp.reshape(Q, (1, wnum, 1, wnum)) # Q[j, jp]  -> Q[i, j, ip, jp]\n",
    "    EV = jnp.sum(V * Q, axis=3)            # sum over last index jp\n",
    "\n",
    "    # Compute the right-hand side of the Bellman equation\n",
    "    return jnp.where(c > 0, (c ** (1 - γ)) / (1 - γ) + β * EV, -jnp.inf)"
   ]
  },
  {
   "cell_type": "code",
   "execution_count": 57,
   "id": "5af6c1ef",
   "metadata": {},
   "outputs": [],
   "source": [
    "@partial(jax.jit, static_argnums=(2, ))\n",
    "def T(V, params, sizes, arrays):\n",
    "    \"\"\" \n",
    "    The Bellman operator\n",
    "    \"\"\"\n",
    "    return jnp.max(B(V, params, sizes, arrays), axis=2)"
   ]
  },
  {
   "cell_type": "code",
   "execution_count": 58,
   "id": "3415b114",
   "metadata": {},
   "outputs": [],
   "source": [
    "@partial(jax.jit, static_argnums=(2, ))\n",
    "def get_greedy(V, params, sizes, arrays):\n",
    "    \"\"\"\n",
    "    Compute a v-greedy policy, returned as a set of indices.\n",
    "    \"\"\"\n",
    "    return np.argmax(B(V, params, sizes, arrays), axis=2)"
   ]
  },
  {
   "cell_type": "code",
   "execution_count": 66,
   "id": "ef261d76",
   "metadata": {},
   "outputs": [],
   "source": [
    "@partial(jax.jit, static_argnums=(0, ))\n",
    "def successive_approx_jax(T,                # operator (callable)\n",
    "                          x0,               # initial condition\n",
    "                          tol=1e-6,         # error tolerance\n",
    "                          max_iter=10_000): # max. iteration bound\n",
    "    \n",
    "    def body_fun(iter_x_err):\n",
    "        iteration, x, error = iter_x_err\n",
    "        x_new = T(x)\n",
    "        error = jnp.max(jnp.abs(x_new - x))\n",
    "        return iteration + 1, x_new, error\n",
    "    \n",
    "    def cond_fun(iter_x_err):\n",
    "        iteration, x, error = iter_x_err\n",
    "        return jnp.logical_and(error > tol, iteration < max_iter)\n",
    "    \n",
    "    iteration, x, error = jax.lax.while_loop(cond_fun, body_fun, (1, x0, jnp.inf))\n",
    "\n",
    "    return x"
   ]
  },
  {
   "cell_type": "code",
   "execution_count": 63,
   "id": "2ce9cba7",
   "metadata": {},
   "outputs": [],
   "source": [
    "def value_function_iteration(model, tol=1e-5):\n",
    "    params, sizes, arrays = model\n",
    "    V = jnp.zeros(sizes)\n",
    "    _T = lambda V: T(V, params, sizes, arrays)\n",
    "    V_star = successive_approx_jax(_T, V, tol=tol)\n",
    "    return V_star, get_greedy(V_star, params, sizes, arrays)"
   ]
  },
  {
   "cell_type": "code",
   "execution_count": 64,
   "id": "008ad6f5",
   "metadata": {},
   "outputs": [],
   "source": [
    "model = create_consumption_model()\n",
    "\n",
    "# Unpack the model.\n",
    "params, sizes, arrays = model\n",
    "β, R, γ = params\n",
    "anum, wnum = sizes\n",
    "agrid, wgrid, Q = arrays"
   ]
  },
  {
   "cell_type": "code",
   "execution_count": 67,
   "id": "736e4c53",
   "metadata": {},
   "outputs": [
    {
     "name": "stdout",
     "output_type": "stream",
     "text": [
      "Begin solving the model:\n",
      "Total execution time: 0.07559 seconds.\n"
     ]
    }
   ],
   "source": [
    "print('Begin solving the model:')\n",
    "start = time()\n",
    "V_star_jax, g_star_jax = value_function_iteration(model)\n",
    "end = time()\n",
    "print(f'Total execution time: {end - start:.5f} seconds.')\n",
    "\n",
    "# Save the execution time.\n",
    "jax_with_compile = end - start"
   ]
  },
  {
   "cell_type": "code",
   "execution_count": 68,
   "id": "2ac535fa",
   "metadata": {},
   "outputs": [
    {
     "name": "stdout",
     "output_type": "stream",
     "text": [
      "Begin solving the model:\n",
      "Total execution time: 0.03470 seconds.\n"
     ]
    }
   ],
   "source": [
    "print('Begin solving the model:')\n",
    "start = time()\n",
    "V_star_jax, g_star_jax = value_function_iteration(model)\n",
    "end = time()\n",
    "print(f'Total execution time: {end - start:.5f} seconds.')\n",
    "\n",
    "# Save the execution time.\n",
    "jax_without_compile = end - start"
   ]
  },
  {
   "cell_type": "code",
   "execution_count": 69,
   "id": "7ed81008",
   "metadata": {},
   "outputs": [
    {
     "name": "stdout",
     "output_type": "stream",
     "text": [
      "Relative speed gain = 41.80864425330318\n"
     ]
    }
   ],
   "source": [
    "# Print the relative speed gains.\n",
    "print(f'Relative speed gain = {numpy_with_compile / jax_with_compile}')"
   ]
  },
  {
   "cell_type": "markdown",
   "id": "5d060f80",
   "metadata": {},
   "source": [
    "For this simple optimal savings problem, direct vectorization is relatively easy."
   ]
  },
  {
   "cell_type": "code",
   "execution_count": 70,
   "id": "1ef040e5",
   "metadata": {},
   "outputs": [],
   "source": [
    "def B(V, params, arrays, i, j, ip):\n",
    "    \"\"\" \n",
    "    The RHS of the Bellman equation before maximization, which takes the form\n",
    "\n",
    "        B(a, w, a') = u(Ra + w - a') + β E[V(a', w') | w]\n",
    "\n",
    "    The indicies are (i, j, ip) -> (a, w, a').\n",
    "    \"\"\"\n",
    "    β, R, γ = params\n",
    "    agrid, wgrid, Q = arrays\n",
    "    a, w, ap = agrid[i], wgrid[j], agrid[ip]\n",
    "    c = R * a + w - ap\n",
    "    EV = jnp.sum(V[ip, :] * Q[j, :])\n",
    "    return jnp.where(c > 0, (c ** (1 - γ)) / (1 - γ) + β * EV, -jnp.inf)"
   ]
  },
  {
   "cell_type": "code",
   "execution_count": 71,
   "id": "ff0e8de1",
   "metadata": {},
   "outputs": [],
   "source": [
    "B1 = jax.vmap(B, in_axes=(None, None, None, None, None, 0))\n",
    "B2 = jax.vmap(B1, in_axes=(None, None, None, None, 0, None))\n",
    "B_vmap = jax.vmap(B2, in_axes=(None, None, None, 0, None, None))"
   ]
  },
  {
   "cell_type": "code",
   "execution_count": 72,
   "id": "ea2cc4f3",
   "metadata": {},
   "outputs": [],
   "source": [
    "@partial(jax.jit, static_argnums=(2, ))\n",
    "def T_vmap(V, params, sizes, arrays):\n",
    "    \"\"\"\n",
    "    The Bellman operator\n",
    "    \"\"\"\n",
    "    anum, wnum = sizes\n",
    "    a_idx, w_idx = jnp.arange(anum), jnp.arange(wnum)\n",
    "    B_values = B_vmap(V, params, arrays, a_idx, w_idx, a_idx)\n",
    "    return jnp.max(B_values, axis=-1)"
   ]
  },
  {
   "cell_type": "code",
   "execution_count": 73,
   "id": "e67efe62",
   "metadata": {},
   "outputs": [],
   "source": [
    "@partial(jax.jit, static_argnums=(2, ))\n",
    "def get_greedy_vmap(V, params, sizes, arrays):\n",
    "    \"\"\"\n",
    "    Compute a v-greedy policy, returned as a set of indicies.\n",
    "    \"\"\"\n",
    "    anum, wnum = sizes\n",
    "    a_idx, w_idx = jnp.arange(anum), jnp.arange(wnum)\n",
    "    B_values = B_vmap(V, params, arrays, a_idx, w_idx, a_idx)\n",
    "    return jnp.argmax(B_values, axis=-1)"
   ]
  },
  {
   "cell_type": "code",
   "execution_count": 74,
   "id": "ce24d8db",
   "metadata": {},
   "outputs": [],
   "source": [
    "def value_iteration_vmap(model, tol=1e-5):\n",
    "    params, sizes, arrays = model\n",
    "    V = jnp.zeros(sizes)\n",
    "    _T = lambda V: T_vmap(V, params, sizes, arrays)\n",
    "    V_star = successive_approx_jax(_T, V, tol=tol)\n",
    "    return V_star, get_greedy_vmap(V_star, params, sizes, arrays)"
   ]
  },
  {
   "cell_type": "code",
   "execution_count": 75,
   "id": "172f3e45",
   "metadata": {},
   "outputs": [
    {
     "name": "stdout",
     "output_type": "stream",
     "text": [
      "Begin solving the model:\n",
      "Total execution time: 0.03438 seconds.\n"
     ]
    }
   ],
   "source": [
    "print('Begin solving the model:')\n",
    "start = time()\n",
    "V_star_vmap, g_star_vmap = value_function_iteration(model)\n",
    "end = time()\n",
    "print(f'Total execution time: {end - start:.5f} seconds.')\n",
    "\n",
    "# Save the execution time.\n",
    "jax_vmap_with_compile = end - start"
   ]
  },
  {
   "cell_type": "code",
   "execution_count": 76,
   "id": "d83f312d",
   "metadata": {},
   "outputs": [
    {
     "name": "stdout",
     "output_type": "stream",
     "text": [
      "Begin solving the model:\n",
      "Total execution time: 0.03473 seconds.\n"
     ]
    }
   ],
   "source": [
    "print('Begin solving the model:')\n",
    "start = time()\n",
    "V_star_vmap, g_star_vmap = value_function_iteration(model)\n",
    "end = time()\n",
    "print(f'Total execution time: {end - start:.5f} seconds.')\n",
    "\n",
    "# Save the execution time.\n",
    "jax_vmap_without_compile = end - start"
   ]
  },
  {
   "cell_type": "code",
   "execution_count": 78,
   "id": "51560795",
   "metadata": {},
   "outputs": [
    {
     "name": "stdout",
     "output_type": "stream",
     "text": [
      "True\n",
      "True\n"
     ]
    }
   ],
   "source": [
    "print(jnp.allclose(V_star_vmap, V_star_jax))\n",
    "print(jnp.allclose(g_star_vmap, g_star_jax))"
   ]
  },
  {
   "cell_type": "code",
   "execution_count": 79,
   "id": "bdd7eb09",
   "metadata": {},
   "outputs": [
    {
     "name": "stdout",
     "output_type": "stream",
     "text": [
      "Relavtive speed = 91.92445005409304\n"
     ]
    }
   ],
   "source": [
    "print(f'Relavtive speed = {numpy_with_compile / jax_vmap_with_compile}')"
   ]
  },
  {
   "cell_type": "code",
   "execution_count": 80,
   "id": "1157d3d2",
   "metadata": {},
   "outputs": [
    {
     "name": "stdout",
     "output_type": "stream",
     "text": [
      "Relavtive speed = 2.1986948320341755\n"
     ]
    }
   ],
   "source": [
    "print(f'Relavtive speed = {jax_with_compile / jax_vmap_with_compile}')"
   ]
  },
  {
   "cell_type": "code",
   "execution_count": null,
   "id": "2d84d6e1",
   "metadata": {},
   "outputs": [],
   "source": []
  }
 ],
 "metadata": {
  "kernelspec": {
   "display_name": "base",
   "language": "python",
   "name": "python3"
  },
  "language_info": {
   "codemirror_mode": {
    "name": "ipython",
    "version": 3
   },
   "file_extension": ".py",
   "mimetype": "text/x-python",
   "name": "python",
   "nbconvert_exporter": "python",
   "pygments_lexer": "ipython3",
   "version": "3.12.7"
  }
 },
 "nbformat": 4,
 "nbformat_minor": 5
}
