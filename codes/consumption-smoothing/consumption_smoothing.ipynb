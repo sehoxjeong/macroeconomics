{
 "cells": [
  {
   "cell_type": "markdown",
   "id": "9a0b13bb",
   "metadata": {},
   "source": [
    "### Consumption Smoothing Models\n",
    "\n",
    "Seho Jeong, Sogang University\n",
    "\n",
    "References:\n",
    "- **Kwak, Jun Hee. 2025.** \"Lectures on Macroeconomics.\" Sogang University.\n",
    "- **Sargent, Thomas J. and John Stachurski. n.d.** \"Consumption Smoothing.\" A First Course in Quantitative Economics with Python. https://intro.quantecon.org/cons_smooth.html\n",
    "- **Sargent, Thomas J., and John Stachurski. n.d.** \"Optimal Savings I: Value Function Iteration.\" Quantitative Economics with JAX. https://jax.quantecon.org/opt_savings_1.html."
   ]
  },
  {
   "cell_type": "code",
   "execution_count": 1,
   "id": "d6230e88",
   "metadata": {},
   "outputs": [],
   "source": [
    "# Import libraries.\n",
    "import numpy as np\n",
    "import jax\n",
    "import jax.numpy as jnp\n",
    "\n",
    "import matplotlib.pyplot as plt\n",
    "import seaborn as sns\n",
    "\n",
    "from dataclasses import dataclass\n",
    "\n",
    "from time import time\n",
    "from tqdm.auto import tqdm"
   ]
  },
  {
   "cell_type": "code",
   "execution_count": 2,
   "id": "00653b66",
   "metadata": {},
   "outputs": [],
   "source": [
    "jax.config.update('jax_enable_x64', True)"
   ]
  },
  {
   "cell_type": "code",
   "execution_count": 3,
   "id": "146b2b96",
   "metadata": {},
   "outputs": [],
   "source": [
    "# Define customized colormap for plots.\n",
    "cm = ['#116FA1', '#2DC0D2', '#E0B266', '#00979F', '#70CAC6', '#005A7D']\n",
    "bg = '#F9F9F9'"
   ]
  },
  {
   "cell_type": "markdown",
   "id": "9cd41d9b",
   "metadata": {},
   "source": [
    "#### Finite-Horizon Consumption-Savings Model"
   ]
  },
  {
   "cell_type": "code",
   "execution_count": 14,
   "id": "55ec9a6b",
   "metadata": {},
   "outputs": [
    {
     "name": "stdout",
     "output_type": "stream",
     "text": [
      "c₀  = 1.000\n",
      "a₁* = 0.000\n"
     ]
    },
    {
     "name": "stderr",
     "output_type": "stream",
     "text": [
      "/var/folders/n5/bkphn15s0kzc1lsr8x64v8y00000gn/T/ipykernel_1263/1524877125.py:19: RuntimeWarning: divide by zero encountered in reciprocal\n",
      "  return np.where(c > 0, (c ** (1 - σ) - 1) / (1 - σ), -np.inf)\n"
     ]
    }
   ],
   "source": [
    "# Set parameters.\n",
    "T = 60   # planning horizon\n",
    "β = 0.96 # discount factor\n",
    "R = 1.02 # gross interest rate\n",
    "σ = 2.0  # CRRA\n",
    "w = 1.0  # labor income; wage\n",
    "\n",
    "# Set grids.\n",
    "amin, amax, anum = 0.0, 10.0, 100\n",
    "agrid = np.linspace(amin, amax, anum)\n",
    "\n",
    "# Define felicity.\n",
    "def u(c):\n",
    "    \"\"\"\n",
    "    period utility function\n",
    "    \"\"\"\n",
    "    if σ == 1:\n",
    "        return np.where(c > 0, np.log(c), -np.inf)\n",
    "    return np.where(c > 0, (c ** (1 - σ) - 1) / (1 - σ), -np.inf)\n",
    "\n",
    "# Initialize value and policy functions.\n",
    "V = np.zeros((T+2, anum))         \n",
    "a_policy_idx = np.zeros((T+1, anum))\n",
    "\n",
    "# Solve the problem using the backward induction.\n",
    "for t in range(T, -1, -1):\n",
    "\n",
    "    V_next = V[t+1]\n",
    "    V_now = np.empty((anum, ))\n",
    "    a_star_now = np.empty((anum, ))\n",
    "\n",
    "    for ai, a in enumerate(agrid):\n",
    "\n",
    "        c_vec = a * R + w - agrid   # consumption for every choice a_{t+1}\n",
    "        RHS = u(c_vec) + β * V_next\n",
    "\n",
    "        max_idx = RHS.argmax()      # index of maximizer a_{t+1}\n",
    "        max_value = RHS[max_idx]    # maximized value RHS(a_{t+1})\n",
    "\n",
    "        V_now[ai] = max_value\n",
    "        a_star_now[ai] = max_idx    # store the index of optimal choices\n",
    "    \n",
    "    V[t] = V_now\n",
    "    a_policy_idx[t] = a_star_now\n",
    "\n",
    "# Translate indices into actual asset levels.\n",
    "a_policy_val = agrid[a_policy_idx.astype(int)]\n",
    "\n",
    "idx0 = np.searchsorted(agrid, 0.0)\n",
    "print(f\"c₀  = { (R)*0 + w - a_policy_val[0,idx0]:.3f}\")\n",
    "print(f\"a₁* = { a_policy_val[0,idx0]:.3f}\")"
   ]
  },
  {
   "cell_type": "code",
   "execution_count": 15,
   "id": "b903de9d",
   "metadata": {},
   "outputs": [
    {
     "data": {
      "text/plain": [
       "[<matplotlib.lines.Line2D at 0x13a0a6450>]"
      ]
     },
     "execution_count": 15,
     "metadata": {},
     "output_type": "execute_result"
    },
    {
     "data": {
      "image/png": "[encoded data removed]",
      "text/plain": [
       "<Figure size 640x480 with 1 Axes>"
      ]
     },
     "metadata": {},
     "output_type": "display_data"
    }
   ],
   "source": [
    "plt.plot(a_policy_val[:, 40])"
   ]
  },
  {
   "cell_type": "markdown",
   "id": "6ece3dca",
   "metadata": {},
   "source": [
    "#### Infinite-Horizon Consumption-Savings Model"
   ]
  },
  {
   "cell_type": "code",
   "execution_count": null,
   "id": "bbd9a5fa",
   "metadata": {},
   "outputs": [],
   "source": [
    "def create_consumption_model(R=1.01,    # gross interest rate\n",
    "                             β=0.98,    # time discount factor\n",
    "                             γ=2,       # CRRA parameter\n",
    "                             amin=0.01, # min. asset\n",
    "                             amax=5.0,  # max. asset\n",
    "                             anum=150,  # number of grid points for asset\n",
    "                             ρ=0.9,     # income parameters\n",
    "                             ν=0.1,\n",
    "                             wnum=100): "
   ]
  }
 ],
 "metadata": {
  "kernelspec": {
   "display_name": "base",
   "language": "python",
   "name": "python3"
  },
  "language_info": {
   "codemirror_mode": {
    "name": "ipython",
    "version": 3
   },
   "file_extension": ".py",
   "mimetype": "text/x-python",
   "name": "python",
   "nbconvert_exporter": "python",
   "pygments_lexer": "ipython3",
   "version": "3.12.7"
  }
 },
 "nbformat": 4,
 "nbformat_minor": 5
}
