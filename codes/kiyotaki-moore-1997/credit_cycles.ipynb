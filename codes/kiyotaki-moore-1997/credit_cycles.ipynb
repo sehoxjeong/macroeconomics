{
 "cells": [
  {
   "cell_type": "code",
   "execution_count": 1,
   "id": "7354b7da-e38e-4dfa-a9e4-69c824aa2ec8",
   "metadata": {},
   "outputs": [
    {
     "name": "stdout",
     "output_type": "stream",
     "text": [
      "3.11.7 | packaged by Anaconda, Inc. | (main, Dec 15 2023, 18:05:47) [MSC v.1916 64 bit (AMD64)]\n"
     ]
    }
   ],
   "source": [
    "import sys\n",
    "print(sys.version)"
   ]
  },
  {
   "cell_type": "code",
   "execution_count": 83,
   "id": "5ba8ae98-b18e-4876-9487-ba7a3dfbe406",
   "metadata": {},
   "outputs": [],
   "source": [
    "import numpy as np\n",
    "from numpy.linalg import inv, eig\n",
    "from scipy.differentiate import jacobian\n",
    "# from scipy.optimize import fsolve\n",
    "\n",
    "import matplotlib.pyplot as plt\n",
    "import seaborn as sns\n",
    "\n",
    "import time"
   ]
  },
  {
   "cell_type": "markdown",
   "id": "646e8444-2fdb-4336-9893-55d7f901f41e",
   "metadata": {},
   "source": [
    "## Kiyotaki and Moore (1997)"
   ]
  },
  {
   "cell_type": "markdown",
   "id": "0a2e3f4a-1cf1-40b5-9555-f43a235ddef2",
   "metadata": {},
   "source": [
    "Our baseline model of credit cycles to implement is Kiyotaki and Moore (1997)'s model. I found helpful to refer to the Matlab code by Ryo Kato."
   ]
  },
  {
   "cell_type": "code",
   "execution_count": 19,
   "id": "c21bcb90-25a1-43ab-987e-ce7e19c66571",
   "metadata": {},
   "outputs": [],
   "source": [
    "# Set parameters\n",
    "# Each period is a length of a quarter of an year.\n",
    "a = 1\n",
    "ϕ = 20    \n",
    "R = 1.01  # gross interest rate; equals the gatherer's constant rate of time preference β'.\n",
    "λ = 0.975\n",
    "π = 0.1\n",
    "ν = 2     # Note that it is not v, but the greek letter nu."
   ]
  },
  {
   "cell_type": "code",
   "execution_count": 67,
   "id": "98a63725-31b7-41e0-812d-25d0bb988594",
   "metadata": {},
   "outputs": [],
   "source": [
    "# Steady-state values\n",
    "\n",
    "DKstar = (a + λ*ϕ - ϕ)/(R-1)\n",
    "qstar = (R/(R-1))*(π*a - (1-λ)*(1 - R + π*R)*ϕ)/(λ*π + (1-λ)*(1 - R + π*R))\n",
    "xstar = qstar * (R-1)/R\n",
    "Kstar = xstar + ν\n",
    "Dstar = DKstar * Kstar\n",
    "\n",
    "qKD = np.array([qstar, Kstar, Dstar])\n",
    "\n",
    "def print_steady_state():\n",
    "    print('========== Steady-State Values =========')\n",
    "    print(f'[01] DKstar: {DKstar:.5f}')\n",
    "    print(f'[02] qstar : {qstar:.5f}')\n",
    "    print(f'[03] xstar : {xstar:.5f}')\n",
    "    print(f'[04] Kstar : {Kstar:.5f}')\n",
    "    print(f'[05] Dstar : {Dstar:.5f}')"
   ]
  },
  {
   "cell_type": "code",
   "execution_count": 68,
   "id": "cfe62533-f8e4-4354-92bf-011c9cc6fa79",
   "metadata": {},
   "outputs": [
    {
     "name": "stdout",
     "output_type": "stream",
     "text": [
      "========== Steady-State Values =========\n",
      "[01] DKstar: 50.00000\n",
      "[02] qstar : 55.16913\n",
      "[03] xstar : 0.54623\n",
      "[04] Kstar : 2.54623\n",
      "[05] Dstar : 127.31145\n"
     ]
    }
   ],
   "source": [
    "print_steady_state()"
   ]
  },
  {
   "cell_type": "code",
   "execution_count": 69,
   "id": "a6e429b9-f516-45eb-996d-21838528d0b5",
   "metadata": {},
   "outputs": [],
   "source": [
    "capital = lambda qt, Dt, Kt, qa, Da, Ka: (π/(qt + ϕ - qa/R))*((a+λ+ϕ+qt)*Kt - R*Dt) + (1-π)*λ*Kt - Ka\n",
    "debt = lambda qt, Dt, Kt, qa, Da, Ka: R*Dt + qt*(Ka - Kt) + ϕ*(Ka - λ*Kt) - a*Kt - Da\n",
    "euler = lambda qt, Dt, Kt, qa, Da, Ka: qt -qa/R - (Kt - ν)\n",
    "\n",
    "def optc(x):\n",
    "    qt, Dt, Kt, qa, Da, Ka = x\n",
    "    return [capital(qt, Dt, Kt, qa, Da, Ka), debt(qt, Dt, Kt, qa, Da, Ka), euler(qt, Dt, Kt, qa, Da, Ka)]\n",
    "\n",
    "jacobian_optc = lambda qt, Dt, Kt, qa, Da, Ka: jacobian(optc, (qt, Dt, Kt, qa, Da, Ka)).df"
   ]
  },
  {
   "cell_type": "code",
   "execution_count": 80,
   "id": "e7393fcf-b12f-4075-8feb-d6664f213a7f",
   "metadata": {},
   "outputs": [],
   "source": [
    "# Linearization\n",
    "\n",
    "# (1) Define linear coefficients.\n",
    "coef = jacobian_optc(qstar, Dstar, Kstar, qstar, Dstar, Kstar)\n",
    "\n",
    "# (2) In terms of % deviations from the steady-state.\n",
    "vo = np.array([qstar, Dstar, Kstar])\n",
    "TW = np.block([[vo], [vo], [vo]])\n",
    "\n",
    "C = -coef[:, :3] * TW\n",
    "B = coef[:, 3:] * TW\n",
    "A = inv(C)@B"
   ]
  },
  {
   "cell_type": "code",
   "execution_count": 112,
   "id": "dd560d3e-bbae-469d-84eb-a158007f3089",
   "metadata": {},
   "outputs": [
    {
     "name": "stderr",
     "output_type": "stream",
     "text": [
      "C:\\Users\\seho6\\AppData\\Local\\Temp\\ipykernel_8332\\3727490356.py:13: ComplexWarning: Casting complex values to real discards the imaginary part\n",
      "  SQ[jw, :] = Q[j, :]\n"
     ]
    }
   ],
   "source": [
    "# Solution Procedures\n",
    "\n",
    "# Eigendecomposition\n",
    "θ, W = eig(A)\n",
    "Q = inv(W)\n",
    "\n",
    "# Extract stable vectors.\n",
    "SQ = np.zeros((len(θ), len(θ)))\n",
    "jw = 0\n",
    "\n",
    "for j in range(len(θ)):\n",
    "    if np.abs(θ[j]) > 1.000000001:\n",
    "        SQ[jw, :] = Q[j, :]\n",
    "        jw += 1\n",
    "\n",
    "# Extract unstable vectors.\n",
    "UQ = np.zeros()"
   ]
  },
  {
   "cell_type": "code",
   "execution_count": null,
   "id": "c765f9dc-e49c-4707-b2ba-b23f934fd2c1",
   "metadata": {},
   "outputs": [],
   "source": [
    "# Simulation Program\n",
    "\n",
    "# (1) Time and initial values\n",
    "T = 80 # time span you want to simulate\n",
    "\n",
    "S1 = np.array([0, 0.01]) # initial state variable + e\n",
    "sig = 0                  # stop stochastic simulation if sig=0\n",
    "e = np.zeros((T, k))\n",
    "\n",
    "# (2) Simulation\n",
    "Ss = S1\n",
    "S = np.zeros((T, k))\n",
    "for i in range(T):\n",
    "    q = AA @ Ss\n",
    "    S[i, :] = q.T\n",
    "    Ss = S[i, :].T\n",
    "SY = np.block([[S1.T], [S]])\n",
    "X = (P@SY.T).T"
   ]
  },
  {
   "cell_type": "code",
   "execution_count": 102,
   "id": "e3824389-ee32-4101-b515-43240a26a13f",
   "metadata": {},
   "outputs": [
    {
     "data": {
      "image/png": "[encoded data removed]",
      "text/plain": [
       "<Figure size 640x480 with 1 Axes>"
      ]
     },
     "metadata": {},
     "output_type": "display_data"
    }
   ],
   "source": [
    "# Draw figures.\n",
    "\n",
    "fig, ax = plt.subplots()\n",
    "\n",
    "plt.show()"
   ]
  },
  {
   "cell_type": "code",
   "execution_count": 111,
   "id": "42f1d68b-2326-43b5-9f93-4dd7ac7d797d",
   "metadata": {},
   "outputs": [
    {
     "data": {
      "text/plain": [
       "array([[3.]])"
      ]
     },
     "execution_count": 111,
     "metadata": {},
     "output_type": "execute_result"
    }
   ],
   "source": [
    "np.append(SQ, [[3]], axis=1)"
   ]
  },
  {
   "cell_type": "code",
   "execution_count": null,
   "id": "bc8e2409-cd35-4b35-b907-1e68a25e06ff",
   "metadata": {},
   "outputs": [],
   "source": []
  }
 ],
 "metadata": {
  "kernelspec": {
   "display_name": "Python 3 (ipykernel)",
   "language": "python",
   "name": "python3"
  },
  "language_info": {
   "codemirror_mode": {
    "name": "ipython",
    "version": 3
   },
   "file_extension": ".py",
   "mimetype": "text/x-python",
   "name": "python",
   "nbconvert_exporter": "python",
   "pygments_lexer": "ipython3",
   "version": "3.11.7"
  }
 },
 "nbformat": 4,
 "nbformat_minor": 5
}
