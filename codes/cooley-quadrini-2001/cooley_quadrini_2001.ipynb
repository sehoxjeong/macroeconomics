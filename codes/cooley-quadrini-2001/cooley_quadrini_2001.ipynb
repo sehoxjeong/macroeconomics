{
 "cells": [
  {
   "cell_type": "markdown",
   "id": "9193edf6",
   "metadata": {},
   "source": [
    "### The Cooley and Quadrini 1991 Model\n",
    "\n",
    "Seho Jeong, Sogang University\n",
    "\n",
    "References\n",
    "- **Cooley, Thomas F., and Vincenzo Quadrini. 2001.** \"Financial Marekts and Firm Dynamics.\" American Economic Review, 91(5): 1286-1310."
   ]
  },
  {
   "cell_type": "code",
   "execution_count": 6,
   "id": "e406c59f",
   "metadata": {},
   "outputs": [],
   "source": [
    "import numpy as np\n",
    "import jax\n",
    "import jax.numpy as jnp\n",
    "\n",
    "import matplotlib.pyplot as plt\n",
    "import seaborn as sns\n",
    "\n",
    "from collections import namedtuple\n",
    "from functools import partial\n",
    "\n",
    "import quantecon as qe\n",
    "\n",
    "from tqdm.auto import tqdm"
   ]
  },
  {
   "cell_type": "code",
   "execution_count": 3,
   "id": "61623834",
   "metadata": {},
   "outputs": [],
   "source": [
    "jax.config.update('jax_enable_x64', True)"
   ]
  },
  {
   "cell_type": "code",
   "execution_count": 4,
   "id": "0979d4b6",
   "metadata": {},
   "outputs": [],
   "source": [
    "# Define customized colormap for plots.\n",
    "cm = ['#116FA1', '#2DC0D2', '#E0B266', '#00979F', '#70CAC6', '#005A7D']\n",
    "bg = '#F9F9F9'"
   ]
  },
  {
   "cell_type": "code",
   "execution_count": 28,
   "id": "a920c0f2",
   "metadata": {},
   "outputs": [
    {
     "data": {
      "application/vnd.jupyter.widget-view+json": {
       "model_id": "5b1662ff1dc94d6cbfda66f0b6412f20",
       "version_major": 2,
       "version_minor": 0
      },
      "text/plain": [
       "  0%|          | 0/2000 [00:00<?, ?it/s]"
      ]
     },
     "metadata": {},
     "output_type": "display_data"
    },
    {
     "name": "stdout",
     "output_type": "stream",
     "text": [
      "Convergence achieved with error 9.355923674680966e-11.\n"
     ]
    }
   ],
   "source": [
    "ρ = 0.95\n",
    "σ_z = 0.02\n",
    "znum = 7\n",
    "β = 0.956\n",
    "r = 1 / β - 1\n",
    "δ = 0.07\n",
    "ν = 0.975\n",
    "p_exog = 0.045 # prob. of exogenous exit\n",
    "w = 1.0            # wage\n",
    "α = 1.0            # capital-labor ratio (l/k)\n",
    "\n",
    "φ = δ + w * α\n",
    "\n",
    "mc = qe.tauchen(znum, rho=ρ, sigma=σ_z, mu=0.0)\n",
    "zgrid, G = np.exp(mc.state_values), mc.P\n",
    "\n",
    "k_star = ((ν * zgrid) / (r + φ)) ** (1 / (1 - ν))\n",
    "π_star = zgrid * k_star ** ν - (r + φ) * k_star\n",
    "\n",
    "A = np.eye(znum) - β * (1 - p_exog) * G\n",
    "V = np.linalg.solve(A, π_star)\n",
    "\n",
    "k_entry = V[-1]\n",
    "\n",
    "# Stationary distribution μ under exit and entry\n",
    "μ = np.ones(znum) / znum\n",
    "for _ in tqdm(range(2000)):\n",
    "    survivors = (1 - p_exog) * G.T.dot(μ)\n",
    "    entrants = p_exog * μ.sum()\n",
    "\n",
    "    μ_new = survivors\n",
    "    μ_new[-1] += entrants\n",
    "    μ_new /= μ_new.sum()\n",
    "\n",
    "    error = np.max(np.abs(μ_new - μ))\n",
    "\n",
    "    if error < 1e-10:\n",
    "        print(f'Convergence achieved with error {error}.')\n",
    "        break\n",
    "\n",
    "    μ = μ_new"
   ]
  },
  {
   "cell_type": "code",
   "execution_count": 35,
   "id": "d83f5b42",
   "metadata": {},
   "outputs": [
    {
     "data": {
      "text/plain": [
       "[<matplotlib.lines.Line2D at 0x335e0da60>]"
      ]
     },
     "execution_count": 35,
     "metadata": {},
     "output_type": "execute_result"
    },
    {
     "data": {
      "image/png": "[encoded data removed]",
      "text/plain": [
       "<Figure size 640x480 with 1 Axes>"
      ]
     },
     "metadata": {},
     "output_type": "display_data"
    }
   ],
   "source": [
    "plt.plot(zgrid, k_star)"
   ]
  },
  {
   "cell_type": "code",
   "execution_count": null,
   "id": "ffa96a32",
   "metadata": {},
   "outputs": [],
   "source": [
    "# Set parameters.\n",
    "\n",
    "r = 0.04           # market interest rate\n",
    "β_fl = 1 / (1 + r) # discount rate in the frictionless economy\n",
    "β_f = 0.956        # discout rate in the economy with frictions\n",
    "ν = 0.975          # returns to scale parameter\n",
    "δ = 0.07           # depriciation rate\n",
    "σ_e = 0.28         # std. dev. of the shock ε\n",
    "z1 = 0.428         # productivity parameter\n",
    "Γ_10 = 0.045       # probability of exogenous exit\n",
    "ξ = 1.0            # default cost\n",
    "λ = 0.3            # equity issuance cost\n",
    "w = 1.0            # wage\n",
    "α = 1.0            # capital-labor ratio (l/k)\n",
    "\n",
    "φ = δ + w * α\n",
    "\n",
    "# Set grids.\n",
    "\n",
    "emin = 0.0\n",
    "emax = 100.0\n",
    "enum = 100\n",
    "egrid = np.linspace(emin, emax, enum)\n",
    "\n",
    "zmin = 0.0\n",
    "zmax = 10.0\n",
    "znum = 7\n",
    "\n",
    "mc = qe.tauchen(znum, )\n"
   ]
  },
  {
   "cell_type": "code",
   "execution_count": null,
   "id": "3f3a5245",
   "metadata": {},
   "outputs": [],
   "source": []
  }
 ],
 "metadata": {
  "kernelspec": {
   "display_name": "base",
   "language": "python",
   "name": "python3"
  },
  "language_info": {
   "codemirror_mode": {
    "name": "ipython",
    "version": 3
   },
   "file_extension": ".py",
   "mimetype": "text/x-python",
   "name": "python",
   "nbconvert_exporter": "python",
   "pygments_lexer": "ipython3",
   "version": "3.12.7"
  }
 },
 "nbformat": 4,
 "nbformat_minor": 5
}
