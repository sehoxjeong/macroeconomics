{
 "cells": [
  {
   "cell_type": "markdown",
   "id": "0c138c7e",
   "metadata": {},
   "source": [
    "# Neoclassical Growth Model\n",
    "\n",
    "Seho Jeong, Sogang University\n",
    "\n",
    "**References**\n",
    "- https://colab.research.google.com/drive/1jbSti3LkxASZg04Bkod0EBJFXdf6xu9_?usp=sharing"
   ]
  },
  {
   "cell_type": "code",
   "execution_count": 20,
   "id": "4d0368ef",
   "metadata": {},
   "outputs": [],
   "source": [
    "import numpy as np\n",
    "import torch\n",
    "import torch.nn as nn\n",
    "import torch.nn.functional as F \n",
    "from torch.utils.data import Dataset, DataLoader\n",
    "\n",
    "import matplotlib.pyplot as plt\n",
    "\n",
    "from dataclasses import dataclass"
   ]
  },
  {
   "cell_type": "markdown",
   "id": "654b0038",
   "metadata": {},
   "source": [
    "## Discrete-Time Solution with Discrete State Approximation"
   ]
  },
  {
   "cell_type": "code",
   "execution_count": 21,
   "id": "eb8bd7bc",
   "metadata": {},
   "outputs": [],
   "source": [
    "# Model parameters\n",
    "β = 0.95  # time discount factor\n",
    "α = 1/3   # capital share in production function\n",
    "δ = 1.    # depreciation rate\n",
    "A = 1     # productivity"
   ]
  },
  {
   "cell_type": "code",
   "execution_count": 43,
   "id": "347560c9",
   "metadata": {},
   "outputs": [],
   "source": [
    "# Numerical parameters\n",
    "max_iter = 100   # maximum number of iterations\n",
    "tol = 1e-7       # convergence tolerance\n",
    "penalty = 1e20 # penalty for constraint violations"
   ]
  },
  {
   "cell_type": "code",
   "execution_count": 44,
   "id": "79357b62",
   "metadata": {},
   "outputs": [],
   "source": [
    "utility = lambda c: np.log(c)\n",
    "production = lambda k: A * k ** α\n",
    "\n",
    "# True V\n",
    "D = α / (1 - α * β)\n",
    "C = ((1 + β * D) * np.log(A) + β * D * np.log(β * D / (1 + β * D)) - np.log(1 + β * D)) / (1 - β)\n",
    "Vtrue = lambda k: C + D * np.log(k)\n",
    "ktrue = lambda k: (β * D / (1 + β * D)) * A * (k ** α)\n",
    "ctrue = lambda k: production(k) + (1 - δ) * k - ktrue(k)"
   ]
  },
  {
   "cell_type": "code",
   "execution_count": 45,
   "id": "9aff0d76",
   "metadata": {},
   "outputs": [],
   "source": [
    "# Set up the grid of capital stocks\n",
    "knum = 1001 # number of nodes for k grid\n",
    "kmin = tol  # effectively zero\n",
    "kmax = 90.0 # effective upper bound on k grid\n",
    "\n",
    "kgrid = np.linspace(kmin, kmax, knum) # linearly spaced"
   ]
  },
  {
   "cell_type": "code",
   "execution_count": 46,
   "id": "187a42cd",
   "metadata": {},
   "outputs": [],
   "source": [
    "# Return function\n",
    "c = np.zeros((knum, knum))\n",
    "for j in range(knum):\n",
    "    c[:, j] = production(kgrid) + (1 - δ) * kgrid - kgrid[j]"
   ]
  },
  {
   "cell_type": "code",
   "execution_count": 47,
   "id": "ee8596a8",
   "metadata": {},
   "outputs": [],
   "source": [
    "# Penalize violations of feasibility constraints.\n",
    "violations = (c <= 0)\n",
    "c = c * (c >= 0) + 1e-10\n",
    "\n",
    "u = utility(c) - penalty * violations"
   ]
  },
  {
   "cell_type": "code",
   "execution_count": 48,
   "id": "8dc79c48",
   "metadata": {},
   "outputs": [
    {
     "data": {
      "text/plain": [
       "array([[-5.37272007e+00, -1.00000000e+20, -1.00000000e+20, ...,\n",
       "        -1.00000000e+20, -1.00000000e+20, -1.00000000e+20],\n",
       "       [-8.02648389e-01, -1.02682980e+00, -1.31624403e+00, ...,\n",
       "        -1.00000000e+20, -1.00000000e+20, -1.00000000e+20],\n",
       "       [-5.71599468e-01, -7.45237378e-01, -9.55495228e-01, ...,\n",
       "        -1.00000000e+20, -1.00000000e+20, -1.00000000e+20],\n",
       "       ...,\n",
       "       [ 1.49926920e+00,  1.47896813e+00,  1.45824636e+00, ...,\n",
       "        -1.00000000e+20, -1.00000000e+20, -1.00000000e+20],\n",
       "       [ 1.49960303e+00,  1.47930880e+00,  1.45859417e+00, ...,\n",
       "        -1.00000000e+20, -1.00000000e+20, -1.00000000e+20],\n",
       "       [ 1.49993653e+00,  1.47964914e+00,  1.45894163e+00, ...,\n",
       "        -1.00000000e+20, -1.00000000e+20, -1.00000000e+20]])"
      ]
     },
     "execution_count": 48,
     "metadata": {},
     "output_type": "execute_result"
    }
   ],
   "source": [
    "u"
   ]
  },
  {
   "cell_type": "code",
   "execution_count": 49,
   "id": "7d2bad42",
   "metadata": {},
   "outputs": [
    {
     "name": "stdout",
     "output_type": "stream",
     "text": [
      "Iteration   1 = 5.372720073353612\n",
      "Iteration   2 = 5.104084069685932\n",
      "Iteration   3 = 4.848879866201635\n",
      "Iteration   4 = 4.606435872891552\n",
      "Iteration   5 = 4.376114079246975\n",
      "Iteration   6 = 4.157308375284625\n",
      "Iteration   7 = 3.9494429565203966\n",
      "Iteration   8 = 3.7519708086943737\n",
      "Iteration   9 = 3.5643722682596533\n",
      "Iteration  10 = 3.386153654846673\n",
      "Iteration  11 = 3.2168459721043376\n",
      "Iteration  12 = 3.05600367349912\n",
      "Iteration  13 = 2.9032034898241648\n",
      "Iteration  14 = 2.758043315332955\n",
      "Iteration  15 = 2.620141149566308\n",
      "Iteration  16 = 2.489134092087994\n",
      "Iteration  17 = 2.364677387483596\n",
      "Iteration  18 = 2.246443518109423\n",
      "Iteration  19 = 2.1341213422039402\n",
      "Iteration  20 = 2.0274152750937446\n",
      "Iteration  21 = 1.9260445113390574\n",
      "Iteration  22 = 1.829742285772113\n",
      "Iteration  23 = 1.7382551714835017\n",
      "Iteration  24 = 1.6513424129093153\n",
      "Iteration  25 = 1.5687752922638651\n",
      "Iteration  26 = 1.490336527650669\n",
      "Iteration  27 = 1.4158197012681342\n",
      "Iteration  28 = 1.3450287162047232\n",
      "Iteration  29 = 1.2777772803945027\n",
      "Iteration  30 = 1.2138884163747719\n",
      "Iteration  31 = 1.1531939955560233\n",
      "Iteration  32 = 1.0955342957782364\n",
      "Iteration  33 = 1.0407575809893217\n",
      "Iteration  34 = 0.988719701939857\n",
      "Iteration  35 = 0.9392837168428514\n",
      "Iteration  36 = 0.8923195310007088\n",
      "Iteration  37 = 0.8477035544506748\n",
      "Iteration  38 = 0.8053183767281382\n",
      "Iteration  39 = 0.765052457891727\n",
      "Iteration  40 = 0.7267998349971379\n",
      "Iteration  41 = 0.6904598432472824\n",
      "Iteration  42 = 0.655936851084931\n",
      "Iteration  43 = 0.6231400085306689\n",
      "Iteration  44 = 0.5919830081041368\n",
      "Iteration  45 = 0.5623838576989328\n",
      "Iteration  46 = 0.5342646648140033\n",
      "Iteration  47 = 0.5075514315732903\n",
      "Iteration  48 = 0.48217385999461726\n",
      "Iteration  49 = 0.458065166994885\n",
      "Iteration  50 = 0.43516190864514215\n",
      "Iteration  51 = 0.4134038132129092\n",
      "Iteration  52 = 0.3927336225522424\n",
      "Iteration  53 = 0.3730969414246488\n",
      "Iteration  54 = 0.3544420943534021\n",
      "Iteration  55 = 0.3367199896357249\n",
      "Iteration  56 = 0.3198839901539543\n",
      "Iteration  57 = 0.3038897906462523\n",
      "Iteration  58 = 0.2886953011139326\n",
      "Iteration  59 = 0.2742605360582502\n",
      "Iteration  60 = 0.260547509255332\n",
      "Iteration  61 = 0.24752013379256255\n",
      "Iteration  62 = 0.23514412710292731\n",
      "Iteration  63 = 0.22338692074779942\n",
      "Iteration  64 = 0.21221757471039382\n",
      "Iteration  65 = 0.20160669597487413\n",
      "Iteration  66 = 0.19152636117613042\n",
      "Iteration  67 = 0.18195004311732532\n",
      "Iteration  68 = 0.17285254096145763\n",
      "Iteration  69 = 0.16420991391339612\n",
      "Iteration  70 = 0.155999418217732\n",
      "Iteration  71 = 0.14819944730683687\n",
      "Iteration  72 = 0.1407894749414993\n",
      "Iteration  73 = 0.13375000119441438\n",
      "Iteration  74 = 0.1270625011347022\n",
      "Iteration  75 = 0.1207093760779685\n",
      "Iteration  76 = 0.11467390727406723\n",
      "Iteration  77 = 0.10894021191035108\n",
      "Iteration  78 = 0.10349320131484774\n",
      "Iteration  79 = 0.09831854124908546\n",
      "Iteration  80 = 0.09340261418665818\n",
      "Iteration  81 = 0.08873248347731533\n",
      "Iteration  82 = 0.08429585930343819\n",
      "Iteration  83 = 0.08008106633826628\n",
      "Iteration  84 = 0.07607701302134728\n",
      "Iteration  85 = 0.07227316237029413\n",
      "Iteration  86 = 0.06865950425176948\n",
      "Iteration  87 = 0.06522652903919379\n",
      "Iteration  88 = 0.06196520258723126\n",
      "Iteration  89 = 0.05886694245788249\n",
      "Iteration  90 = 0.05592359533497415\n",
      "Iteration  91 = 0.053127415568212655\n",
      "Iteration  92 = 0.05047104478981623\n",
      "Iteration  93 = 0.04794749255032116\n",
      "Iteration  94 = 0.04555011792280084\n",
      "Iteration  95 = 0.04327261202666932\n",
      "Iteration  96 = 0.0411089814253387\n",
      "Iteration  97 = 0.039053532354074605\n",
      "Iteration  98 = 0.03710085573635524\n",
      "Iteration  99 = 0.03524581294954032\n",
      "Iteration 100 = 0.03348352230207752\n"
     ]
    }
   ],
   "source": [
    "# Solve Bellman equation using value function iteration.\n",
    "\n",
    "# Initial guess\n",
    "V = np.zeros(knum)\n",
    "\n",
    "# Iterate on Bellman operator\n",
    "for it in range(max_iter):\n",
    "\n",
    "    # RHS of Bellman equation\n",
    "    RHS = u + β * np.kron(np.ones((knum, 1)), V)\n",
    "\n",
    "    TV = np.max(RHS, axis=1)\n",
    "    kj = np.argmax(RHS, axis=1)\n",
    "    g = kgrid[kj] # policy that attains the maximum\n",
    "\n",
    "    # Check if converged.\n",
    "    error = np.max(np.abs(TV - V))\n",
    "    print(f'Iteration {it+1:3d} = {error}')\n",
    "\n",
    "    if error < tol: break\n",
    "\n",
    "    V = TV"
   ]
  },
  {
   "cell_type": "code",
   "execution_count": 51,
   "id": "5353f1e8",
   "metadata": {},
   "outputs": [
    {
     "data": {
      "text/plain": [
       "[<matplotlib.lines.Line2D at 0x32c7abb30>]"
      ]
     },
     "execution_count": 51,
     "metadata": {},
     "output_type": "execute_result"
    },
    {
     "data": {
      "image/png": "[encoded data removed]",
      "text/plain": [
       "<Figure size 1200x300 with 3 Axes>"
      ]
     },
     "metadata": {},
     "output_type": "display_data"
    }
   ],
   "source": [
    "fig, (ax1, ax2, ax3) = plt.subplots(1, 3, figsize=(12, 3))\n",
    "\n",
    "# LEFT PANEL: VALUE FUNCTION\n",
    "ax1.plot(kgrid, Vtrue(kgrid), color='k')\n",
    "ax1.plot(kgrid, V)\n",
    "\n",
    "# MEDIUM PANEL: CAPITAL\n",
    "ax2.plot(kgrid, ktrue(kgrid), color='k')\n",
    "ax2.plot(kgrid, g, color='dodgerblue')\n",
    "\n",
    "# RIGHT PANEL: CONSUMPTION\n",
    "ax3.plot(kgrid, ctrue(kgrid), color='k')\n",
    "ax3.plot(kgrid, production(kgrid) + (1 - δ) * kgrid - g)"
   ]
  },
  {
   "cell_type": "markdown",
   "id": "82055db8",
   "metadata": {},
   "source": [
    "## Discrete-Time Solution using Neural Networks"
   ]
  },
  {
   "cell_type": "code",
   "execution_count": 4,
   "id": "56c3c6f1",
   "metadata": {},
   "outputs": [],
   "source": [
    "@dataclass\n",
    "class Params:\n",
    "    α:   float = 1/3\n",
    "    β:   float = 0.9\n",
    "    δ:   float = 1.\n",
    "    k_0: float = 1"
   ]
  },
  {
   "cell_type": "code",
   "execution_count": 5,
   "id": "e65fc121",
   "metadata": {},
   "outputs": [],
   "source": [
    "def f(k, params):\n",
    "    α = params.α\n",
    "    return k ** α\n",
    "\n",
    "def f_prime(k, params):\n",
    "    α = params.α\n",
    "    return α * k ** (α - 1)\n",
    "\n",
    "def u(c):\n",
    "    return np.log(c) # log utility\n",
    "\n",
    "def u_prime(c):\n",
    "    return 1 / c"
   ]
  },
  {
   "cell_type": "code",
   "execution_count": 6,
   "id": "acdc85cf",
   "metadata": {},
   "outputs": [],
   "source": [
    "def compute_steady_state(params):\n",
    "    α, β, δ, k_0 = params.α, params.β, params.δ, params.k_0\n",
    "    base = ((1 / β) - 1 + δ) / α\n",
    "    exponent = 1 / (α - 1)\n",
    "    k_ss = base ** exponent\n",
    "    c_ss = f(k_ss) - δ * k_ss\n",
    "    return k_ss, c_ss"
   ]
  },
  {
   "cell_type": "markdown",
   "id": "2f68d73b",
   "metadata": {},
   "source": [
    "### Preparing the Grid and the Data Loader"
   ]
  },
  {
   "cell_type": "code",
   "execution_count": 21,
   "id": "b4949ec2",
   "metadata": {},
   "outputs": [],
   "source": [
    "@dataclass\n",
    "class GridData:\n",
    "    max_T: int = 32\n",
    "    batch_size: int = 8\n",
    "    time_range: torch.Tensor = torch.arange(0.0, max_T, 1.0)\n",
    "    grid: torch.Tensor = time_range.unsqueeze(dim=1)\n",
    "\n",
    "class DataLabel(Dataset):\n",
    "\n",
    "    def __init__(self, data):\n",
    "        self.time = data\n",
    "        self.n_samples = self.time.shape[0]\n",
    "\n",
    "    def __getitem__(self, index):\n",
    "        return self.time[index]\n",
    "    \n",
    "    def __len__(self):\n",
    "        return self.n_samples"
   ]
  },
  {
   "cell_type": "code",
   "execution_count": 22,
   "id": "157ba897",
   "metadata": {},
   "outputs": [],
   "source": [
    "train_data = GridData().grid\n",
    "train_labeled = DataLabel(train_data)\n",
    "train = DataLoader(dataset=train_labeled, batch_size=8, shuffle=True)"
   ]
  },
  {
   "cell_type": "code",
   "execution_count": null,
   "id": "340af83d",
   "metadata": {},
   "outputs": [
    {
     "data": {
      "text/plain": [
       "<torch.utils.data.dataloader.DataLoader at 0x16e2f39b0>"
      ]
     },
     "execution_count": 23,
     "metadata": {},
     "output_type": "execute_result"
    }
   ],
   "source": [
    "class NN(nn.Module):\n",
    "\n",
    "    def __init__(self,\n",
    "                 dim_hidden,\n",
    "                 layers=4,\n",
    "                 hidden_bias=True):\n",
    "\n",
    "        super().__init__(*args, **kwargs)"
   ]
  },
  {
   "cell_type": "code",
   "execution_count": null,
   "id": "24050f4c",
   "metadata": {},
   "outputs": [],
   "source": []
  }
 ],
 "metadata": {
  "kernelspec": {
   "display_name": "base",
   "language": "python",
   "name": "python3"
  },
  "language_info": {
   "codemirror_mode": {
    "name": "ipython",
    "version": 3
   },
   "file_extension": ".py",
   "mimetype": "text/x-python",
   "name": "python",
   "nbconvert_exporter": "python",
   "pygments_lexer": "ipython3",
   "version": "3.12.7"
  }
 },
 "nbformat": 4,
 "nbformat_minor": 5
}
