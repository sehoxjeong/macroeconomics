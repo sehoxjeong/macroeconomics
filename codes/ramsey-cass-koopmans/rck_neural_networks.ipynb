{
 "cells": [
  {
   "cell_type": "markdown",
   "id": "9992b3e0",
   "metadata": {},
   "source": [
    "### Application of Neural Networks to the Ramsey-Cass-Koopmans Model\n",
    "\n",
    "Seho Jeong, Sogang University\n",
    "\n",
    "References:\n",
    "- **Kwak, Jun Hee. 2025.** \"Lectures on Macroeconomics.\" Sogang University."
   ]
  },
  {
   "cell_type": "code",
   "execution_count": 2,
   "id": "eecdf9bb",
   "metadata": {},
   "outputs": [],
   "source": [
    "import numpy as np\n",
    "import torch\n",
    "import torch.nn as nn\n",
    "import torch.nn.functional as F\n",
    "\n",
    "import matplotlib.pyplot as plt\n",
    "from matplotlib import cm\n",
    "\n",
    "from dataclasses import dataclass"
   ]
  },
  {
   "cell_type": "markdown",
   "id": "4f645af1",
   "metadata": {},
   "source": [
    "#### Discrete Time"
   ]
  },
  {
   "cell_type": "markdown",
   "id": "02ec6a65",
   "metadata": {},
   "source": [
    "#### Continuous Time"
   ]
  },
  {
   "cell_type": "code",
   "execution_count": null,
   "id": "5d4d525b",
   "metadata": {},
   "outputs": [],
   "source": [
    "@dataclass\n",
    "class Parameters:\n",
    "    α:  float = 1/3 # share of capital\n",
    "    ρ:  float = 0.1111\n",
    "    δ:  float = 0.1 # depriciation rate\n",
    "    k0: float = 1.0\n",
    "    σ:  float = 1.0 # CRRA parameter\n",
    "\n",
    "   "
   ]
  },
  {
   "cell_type": "code",
   "execution_count": null,
   "id": "638584e3",
   "metadata": {},
   "outputs": [],
   "source": [
    "def f(k, params):\n",
    "    α = params.α\n",
    "    return k ** α\n",
    "\n",
    "def f_prime(k, params):\n",
    "    α = params.α\n",
    "    return α * k ** (α - 1)\n",
    "\n",
    "def steady_state(params):\n",
    "    δ, α, ρ = params.δ, params.α, params.ρ\n",
    "    k_ss = ((δ + ρ) / α) ** (1.0 / (α - 1))\n",
    "    c_ss = f(k_ss) - δ * k_ss\n",
    "    return k_ss, c_ss"
   ]
  }
 ],
 "metadata": {
  "kernelspec": {
   "display_name": "base",
   "language": "python",
   "name": "python3"
  },
  "language_info": {
   "codemirror_mode": {
    "name": "ipython",
    "version": 3
   },
   "file_extension": ".py",
   "mimetype": "text/x-python",
   "name": "python",
   "nbconvert_exporter": "python",
   "pygments_lexer": "ipython3",
   "version": "3.12.7"
  }
 },
 "nbformat": 4,
 "nbformat_minor": 5
}
