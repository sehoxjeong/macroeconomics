{
 "cells": [
  {
   "cell_type": "markdown",
   "id": "8f5b1900",
   "metadata": {},
   "source": [
    "### Overlapping Generations Model\n",
    "\n",
    "Seho Jeong, Sogang University\n",
    "\n",
    "References:\n",
    "- Kwak, Jun Hee. 2025. \"Lectures on Macroeconomics.\" Sogang University.\n",
    "- Sargent, Thomas J. and John Stachurski. n.d. \"The Overlapping Generations Model.\" A First Course in Quantitative Economics with Python. https://intro.quantecon.org/cons_smooth.html"
   ]
  },
  {
   "cell_type": "markdown",
   "id": "1734a27b",
   "metadata": {},
   "source": []
  }
 ],
 "metadata": {
  "language_info": {
   "name": "python"
  }
 },
 "nbformat": 4,
 "nbformat_minor": 5
}
