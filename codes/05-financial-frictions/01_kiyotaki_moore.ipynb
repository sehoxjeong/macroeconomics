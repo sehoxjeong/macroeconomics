{
 "cells": [
  {
   "cell_type": "markdown",
   "id": "aa6a9f0a",
   "metadata": {},
   "source": [
    "# Kiyotaki and Moore (1997, JPE)\n",
    "\n",
    "Seho Jeong, Sogang University, Aug 2025"
   ]
  },
  {
   "cell_type": "code",
   "execution_count": 4,
   "id": "2f7db8a2",
   "metadata": {},
   "outputs": [],
   "source": [
    "import numpy as np\n",
    "\n",
    "import matplotlib.pyplot as plt\n",
    "\n",
    "from dataclasses import dataclass"
   ]
  },
  {
   "cell_type": "code",
   "execution_count": 5,
   "id": "9841b7a2",
   "metadata": {},
   "outputs": [],
   "source": [
    "@dataclass\n",
    "class KiyotakiMoore1997:\n",
    "    # Parameters\n",
    "    a = 1\n",
    "    φ = 20\n",
    "    R = 1.01\n",
    "    λ = 0.975\n",
    "    pai = 0.1\n",
    "    v = 2\n",
    "\n",
    "    # Steady state values\n",
    "    DKstar = (a + λ * φ - φ) / (R - 1)\n",
    "    qstar = (R / (R - 1)) * (pai * a - (1 - λ) * (1 - R + pai * R) * φ) / (λ * pai + (1 - λ) * (1 - R + pai * R))\n",
    "    xstar = qstar * (R - 1) / R\n",
    "    Kstar = xstar + v\n",
    "    Dstar = DKstar * Kstar\n",
    "\n",
    "    qKD = [qstar, Kstar, Dstar]"
   ]
  },
  {
   "cell_type": "code",
   "execution_count": 6,
   "id": "73accdad",
   "metadata": {},
   "outputs": [],
   "source": [
    "# Model\n",
    "def model(Dt, Kt, qt, Da, Ka, qa, params):\n",
    "    # Unpack parameters\n",
    "    pai, φ, R, a, λ, v = params.pai, params.φ, params.R, params.a, params.λ, params.v\n",
    "\n",
    "    capital = (pai / (qt + φ - qa / R)) * ((a + λ * φ + qt) * Kt - R * Dt) + (1 - pai) * λ * Kt - Ka\n",
    "    debt = R * Dt + qt * (Ka - Kt) + φ * (Ka - λ * Kt) - a * Kt - Da\n",
    "    euler = qt - qa / R - (Kt - v)\n",
    "\n",
    "    return euler, debt, capital"
   ]
  },
  {
   "cell_type": "code",
   "execution_count": null,
   "id": "33c09f4f",
   "metadata": {},
   "outputs": [],
   "source": [
    "# Linearization\n"
   ]
  }
 ],
 "metadata": {
  "kernelspec": {
   "display_name": "base",
   "language": "python",
   "name": "python3"
  },
  "language_info": {
   "codemirror_mode": {
    "name": "ipython",
    "version": 3
   },
   "file_extension": ".py",
   "mimetype": "text/x-python",
   "name": "python",
   "nbconvert_exporter": "python",
   "pygments_lexer": "ipython3",
   "version": "3.12.7"
  }
 },
 "nbformat": 4,
 "nbformat_minor": 5
}
