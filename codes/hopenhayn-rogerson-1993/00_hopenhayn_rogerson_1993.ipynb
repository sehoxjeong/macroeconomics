{
 "cells": [
  {
   "cell_type": "code",
   "execution_count": 59,
   "id": "4757a9a8-2f05-410c-8e62-89ce636e6690",
   "metadata": {},
   "outputs": [],
   "source": [
    "import numpy as np\n",
    "import jax\n",
    "import jax.numpy as jnp\n",
    "from jax.scipy.stats import norm\n",
    "import quantecon as qe\n",
    "\n",
    "import matplotlib.pyplot as plt\n",
    "import seaborn as sns\n",
    "\n",
    "from collections import namedtuple"
   ]
  },
  {
   "cell_type": "code",
   "execution_count": 60,
   "id": "c7732f91-8412-4b9d-a9df-3731c578b38c",
   "metadata": {},
   "outputs": [],
   "source": [
    "# Use 64 bit floats for extra precision.\n",
    "jax.config.update('jax_enable_x64', True)"
   ]
  },
  {
   "cell_type": "code",
   "execution_count": 61,
   "id": "c6c8d65b-c3bd-480e-83e2-a641d52c6ff3",
   "metadata": {},
   "outputs": [],
   "source": [
    "# Store the parameters, grids, and Monte Carlo draws in a `namedtuple`.\n",
    "Parameters = namedtuple('Parameters', ['β', 'θ', 'cf', 'ce', 'A'])\n",
    "Grids = namedtuple('Grids', ['sgrid', 'ngrid', 'Edraws', 'Sdraws'])\n",
    "Model = namedtuple('Model', ['params', 'grids'])"
   ]
  },
  {
   "cell_type": "code",
   "execution_count": 3,
   "id": "692ecda3-9734-486f-9b77-fd363e4fb3c4",
   "metadata": {},
   "outputs": [],
   "source": [
    "# Define tolerance.\n",
    "tol1 = 0.05 # precision in finding the equilibrium price\n",
    "tol2 = 0.01 # precision in the first stage value function\n",
    "tol3 = 0.01 # precision in the second stage value function\n",
    "tol4 = 1e-4 # precision in the stationary distribution"
   ]
  },
  {
   "cell_type": "code",
   "execution_count": 7,
   "id": "113fbf8d-95bb-4bdd-aa18-3cef0b2d59dd",
   "metadata": {},
   "outputs": [],
   "source": [
    "nnum = 250             # size of employment grid\n",
    "nmin = jnp.log(1)      # min. employment\n",
    "nmax = jnp.log(5000)   # max. employment\n",
    "ngrid = jnp.linspace(nmin, nmax, nnum) \n",
    "ngrid = jnp.exp(ngrid) # employment grid"
   ]
  },
  {
   "cell_type": "code",
   "execution_count": 8,
   "id": "4d84495c-1d1e-4212-bd37-db647b1f5fc0",
   "metadata": {},
   "outputs": [],
   "source": [
    "# Assign parameters of the firm problem.\n",
    "θ = 0.64\n",
    "ce = -8.26953813830592\n",
    "cf = 17\n",
    "β = 0.8\n",
    "f = 0"
   ]
  },
  {
   "cell_type": "code",
   "execution_count": 9,
   "id": "287fc777-167d-4ff1-a99a-09a2a6c6e13e",
   "metadata": {},
   "outputs": [],
   "source": [
    "# Assign demand parameter.\n",
    "A = 1.2459"
   ]
  },
  {
   "cell_type": "code",
   "execution_count": 10,
   "id": "f2b4f903-3d35-4c63-a21f-7686f51ae3b6",
   "metadata": {},
   "outputs": [],
   "source": [
    "# Stochastic parameters\n",
    "snum = 20 # number of points in the grid for the shock\n",
    "smin = jnp.log(1/0.64)\n",
    "smax = jnp.log(32)\n",
    "sgrid = jnp.linspace(smin, smax, snum)\n",
    "σ = 0.26\n",
    "ρ = 0.93\n",
    "smean = 0.208\n",
    "means = smin + smean * (smax - smin)"
   ]
  },
  {
   "cell_type": "code",
   "execution_count": 13,
   "id": "b33cd025-0b68-4823-b962-84b0759b9261",
   "metadata": {},
   "outputs": [],
   "source": [
    "# Distribution for entrants\n",
    "# The distribution is uniform over the first `νnum` components of the s vector.\n",
    "νgrid = jnp.zeros_like(sgrid)\n",
    "νnum = 8\n",
    "νgrid = νgrid.at[:νnum].set((1 / νnum) * jnp.ones((νnum, )))"
   ]
  },
  {
   "cell_type": "code",
   "execution_count": 17,
   "id": "f1461987-258a-4366-a0af-c3971316d3cb",
   "metadata": {},
   "outputs": [],
   "source": [
    "# Solution choices\n",
    "\n",
    "# A toggle for whether or not you want to determine the price\n",
    "# If set True, price will be set at `p_exog`.\n",
    "find_p = True \n",
    "p_exog = 1\n",
    "p_init = 1\n",
    "\n",
    "# A toggle that determines if you want to specify an exogenous exit rule.\n",
    "# If set True, firms will exit whenever their individual shock is less than or equal to `s_exit` in the s grid.\n",
    "# The matrix `exexog` then specifies the corresponding decision rule for exit.\n",
    "exog_exit = False\n",
    "s_exit = 6\n",
    "exexog = jnp.zeros((snum, nnum))\n",
    "exexog = exexog.at[:s_exit, :].set(jnp.ones((s_exit, nnum)))"
   ]
  },
  {
   "cell_type": "code",
   "execution_count": 42,
   "id": "78602864-39ce-4fa7-893e-c161cfe40f22",
   "metadata": {},
   "outputs": [],
   "source": [
    "# Make the transition matrix.\n",
    "# The row identifies the old state; the column, the new state.\n",
    "\n",
    "intercept = (1 - ρ) * means\n",
    "midpoints = jnp.linspace((sgrid[0] + sgrid[1])/2, (sgrid[-2] + sgrid[-1])/2, snum-1)\n",
    "displacements = jnp.ones((snum, 1)) * midpoints - intercept - ρ * sgrid.reshape((snum, 1)) * jnp.ones((1, snum-1))\n",
    "probs = norm.cdf(displacements/σ)\n",
    "trans = jnp.hstack([probs, jnp.ones((snum, 1))]) - jnp.hstack([jnp.zeros((snum, 1)), probs])"
   ]
  },
  {
   "cell_type": "code",
   "execution_count": 44,
   "id": "52639ab9-fec4-4113-88a5-0c0af27a4d88",
   "metadata": {},
   "outputs": [
    {
     "name": "stdout",
     "output_type": "stream",
     "text": [
      "Convergence achieved at loop 76\n"
     ]
    }
   ],
   "source": [
    "state = jnp.ones_like(sgrid) / snum\n",
    "\n",
    "for i in range(1000):\n",
    "    state_new = state @ trans\n",
    "    error = jnp.max(jnp.abs(state_new - state))\n",
    "    state = state_new\n",
    "    if error < 1e-5:\n",
    "        print(f'Convergence achieved at loop {i}')\n",
    "        break"
   ]
  },
  {
   "cell_type": "code",
   "execution_count": 33,
   "id": "38c002e5-6966-45db-8987-fb274b53bbf6",
   "metadata": {},
   "outputs": [],
   "source": [
    "Parameters = namedtuple('Parameters', ['θ', 'cf', 'β', 'tol', 'f'])"
   ]
  },
  {
   "cell_type": "code",
   "execution_count": 34,
   "id": "701fa8a5-0ef1-4317-848a-6a97870fcc4a",
   "metadata": {},
   "outputs": [],
   "source": [
    "params = Parameters(θ, cf, β, tol2, f)\n",
    "params_fs = Parameters(θ, cf, β, tol3, f)"
   ]
  },
  {
   "cell_type": "code",
   "execution_count": 55,
   "id": "2fd2ac47-60ab-4f6f-8c44-ada252b9156c",
   "metadata": {},
   "outputs": [],
   "source": [
    "# The variables n20, n100, n500, are the indicies that determine the cutoff for the corresponding firm sizes.\n",
    "n20 = jnp.argmax(ngrid * (ngrid <= 20))\n",
    "n100 = jnp.argmax(ngrid * (ngrid <= 100))\n",
    "n500 = jnp.argmax(ngrid * (ngrid <= 500))"
   ]
  },
  {
   "cell_type": "code",
   "execution_count": null,
   "id": "cc46c46a-1cac-4241-9143-84c61feeeb33",
   "metadata": {},
   "outputs": [],
   "source": []
  },
  {
   "cell_type": "code",
   "execution_count": null,
   "id": "bf88fea4-52aa-492c-acce-ce8a2a7f0a80",
   "metadata": {},
   "outputs": [],
   "source": [
    "# Do you need to find the price?\n",
    "\n",
    "def compute_p_star(params, grids, p_init, tol=tol1):\n",
    "\n",
    "    \n",
    "if find_p:\n",
    "    Ve = 10\n",
    "    # Use Newton-Raphson method to find p*."
   ]
  }
 ],
 "metadata": {
  "kernelspec": {
   "display_name": "Python 3 (ipykernel)",
   "language": "python",
   "name": "python3"
  },
  "language_info": {
   "codemirror_mode": {
    "name": "ipython",
    "version": 3
   },
   "file_extension": ".py",
   "mimetype": "text/x-python",
   "name": "python",
   "nbconvert_exporter": "python",
   "pygments_lexer": "ipython3",
   "version": "3.11.7"
  }
 },
 "nbformat": 4,
 "nbformat_minor": 5
}
