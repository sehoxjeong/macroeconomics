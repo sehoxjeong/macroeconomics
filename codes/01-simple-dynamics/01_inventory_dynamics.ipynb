{
 "cells": [
  {
   "cell_type": "markdown",
   "id": "afc100fa",
   "metadata": {},
   "source": [
    "# Inventory Dynamics\n",
    "\n",
    "Seho Jeong, Sogang University\n",
    "\n",
    "**References**\n",
    "- QuantEcon"
   ]
  },
  {
   "cell_type": "code",
   "execution_count": 79,
   "id": "7b204054",
   "metadata": {},
   "outputs": [],
   "source": [
    "# Import libraries.\n",
    "import numpy as np\n",
    "import jax\n",
    "import jax.numpy as jnp\n",
    "from jax import random, lax\n",
    "\n",
    "import matplotlib.pyplot as plt\n",
    "import matplotlib.cm as cm\n",
    "\n",
    "from typing import NamedTuple\n",
    "from time import time"
   ]
  },
  {
   "cell_type": "code",
   "execution_count": 18,
   "id": "01e0c332",
   "metadata": {},
   "outputs": [],
   "source": [
    "# Customized colors\n",
    "bg = '#F9F9F9'"
   ]
  },
  {
   "cell_type": "code",
   "execution_count": 3,
   "id": "cf733e3d",
   "metadata": {},
   "outputs": [],
   "source": [
    "# Assume that each D_t is lognormal: D_t = exp(μ + σ Z_t).\n",
    "# Define a `namedtuple` that stores parameters.\n",
    "class ModelParameters(NamedTuple):\n",
    "    s: int = 10\n",
    "    S: int = 100\n",
    "    μ: float = 1.0\n",
    "    σ: float = 0.5"
   ]
  },
  {
   "cell_type": "markdown",
   "id": "8fa9e303",
   "metadata": {},
   "source": [
    "## Cross-Section of Inventory"
   ]
  },
  {
   "cell_type": "code",
   "execution_count": 4,
   "id": "7f288c4f",
   "metadata": {},
   "outputs": [],
   "source": [
    "@jax.jit\n",
    "def update_cross_section(params: ModelParameters,\n",
    "                         X_vec: jnp.ndarray,\n",
    "                         D_vec: jnp.ndarray) -> jnp.ndarray:\n",
    "    \"\"\" \n",
    "    Update by one period a cross-section of firms with inventory levels given by X_vec, given the vector of demand shocks in D_vec. \n",
    "    Here, D[i] is the demand shock for firm i with current inventory X_vec[i].\n",
    "    \"\"\"\n",
    "    # Unpack\n",
    "    s, S = params.s, params.S\n",
    "\n",
    "    # Restock if the inventory is below the threshold.\n",
    "    X_new = jnp.where(X_vec <= s,\n",
    "                      jnp.maximum(S - D_vec, 0),\n",
    "                      jnp.maximum(X_vec - D_vec, 0))\n",
    "    \n",
    "    return X_new"
   ]
  },
  {
   "cell_type": "code",
   "execution_count": 8,
   "id": "700f40d2",
   "metadata": {},
   "outputs": [],
   "source": [
    "# Given the initial distribution taking all firms to have initial inventory `x_init`, \n",
    "# I compute the cross-sectional distribution at T > 0.\n",
    "def project_cross_section(params: ModelParameters,\n",
    "                          x_init: jnp.ndarray,\n",
    "                          T: int,\n",
    "                          key: jnp.ndarray,\n",
    "                          num_firms: int = 50_000) -> jnp.ndarray:\n",
    "    # Set up initial distribution.\n",
    "    X_vec = jnp.full((num_firms, ), x_init)\n",
    "\n",
    "    # Update cross-section.\n",
    "    for t in range(T):\n",
    "        Z = random.normal(key, shape=(num_firms, ))\n",
    "        D = jnp.exp(params.μ + params.σ * Z)\n",
    "\n",
    "        X_vec = update_cross_section(params, X_vec, D)\n",
    "        _, key = random.split(key)\n",
    "    \n",
    "    return X_vec"
   ]
  },
  {
   "cell_type": "code",
   "execution_count": 13,
   "id": "0e12faf8",
   "metadata": {},
   "outputs": [],
   "source": [
    "# Use the baseline specification.\n",
    "params = ModelParameters()\n",
    "x_init = 50\n",
    "T = 500\n",
    "\n",
    "# Initialize random number generator.\n",
    "key = random.PRNGKey(1)"
   ]
  },
  {
   "cell_type": "code",
   "execution_count": 47,
   "id": "e87ed9b5",
   "metadata": {},
   "outputs": [
    {
     "name": "stdout",
     "output_type": "stream",
     "text": [
      "CPU times: user 1e+03 ns, sys: 2 μs, total: 3 μs\n",
      "Wall time: 5.01 μs\n"
     ]
    }
   ],
   "source": [
    "%time \n",
    "X_vec = project_cross_section(params, x_init, T, key).block_until_ready()"
   ]
  },
  {
   "cell_type": "code",
   "execution_count": 53,
   "id": "61d4f081",
   "metadata": {},
   "outputs": [],
   "source": [
    "# We can gain speed by compiling the outer loop.\n",
    "def project_cross_section_fori(params: ModelParameters,\n",
    "                               x_init: int,\n",
    "                               T: int,\n",
    "                               key: jnp.ndarray,\n",
    "                               num_firms: int = 50_000) -> jnp.ndarray:\n",
    "    # Unpack parameters.\n",
    "    s, S, μ, σ = params.s, params.S, params.μ, params.σ\n",
    "    X = jnp.full((num_firms, ), x_init)\n",
    "\n",
    "    # Define the function for each update.\n",
    "    def fori_update(t, loop_state):\n",
    "        # Unpack\n",
    "        X, key = loop_state\n",
    "\n",
    "        # Draw shocks using key.\n",
    "        Z = random.normal(key, shape=(num_firms, ))\n",
    "        D = jnp.exp(μ + σ * Z)\n",
    "\n",
    "        # Update X.\n",
    "        X = jnp.where(X <= s,\n",
    "                      jnp.maximum(S - D, 0),\n",
    "                      jnp.maximum(X - D, 0))\n",
    "        \n",
    "        # Refresh the key.\n",
    "        _, subkey = random.split(key)\n",
    "\n",
    "        return X, subkey\n",
    "    \n",
    "    # Loop t from 0 to T, applying fori_update each time.\n",
    "    initial_loop_state = X, key\n",
    "    X, key = lax.fori_loop(0, T, fori_update, initial_loop_state)\n",
    "    return X"
   ]
  },
  {
   "cell_type": "code",
   "execution_count": 58,
   "id": "35b75046",
   "metadata": {},
   "outputs": [
    {
     "name": "stdout",
     "output_type": "stream",
     "text": [
      "CPU times: user 1 μs, sys: 1e+03 ns, total: 2 μs\n",
      "Wall time: 3.1 μs\n"
     ]
    }
   ],
   "source": [
    "%time\n",
    "X_vec_fori = project_cross_section_fori(params, x_init, T, key).block_until_ready()"
   ]
  },
  {
   "cell_type": "code",
   "execution_count": 59,
   "id": "3c1e22d7",
   "metadata": {},
   "outputs": [
    {
     "data": {
      "image/png": "[encoded data removed]",
      "text/plain": [
       "<Figure size 640x480 with 1 Axes>"
      ]
     },
     "metadata": {},
     "output_type": "display_data"
    }
   ],
   "source": [
    "# Plot a histogram of inventory levels at time T.\n",
    "fig, ax = plt.subplots()\n",
    "\n",
    "ax.hist(X_vec,\n",
    "        bins=50,\n",
    "        density=True, \n",
    "        color='dodgerblue',\n",
    "        edgecolor='k',\n",
    "        alpha=0.8,\n",
    "        label=f'Cross-section at $t = {T}$')\n",
    "\n",
    "ax.vlines(x=[params.s, params.S],\n",
    "          ymin=0, \n",
    "          ymax=0.013,\n",
    "          colors='k',\n",
    "          linestyles=':')\n",
    "\n",
    "ax.legend(fancybox=False, edgecolor='k')\n",
    "ax.set_title('Cross-Section of Inventory')\n",
    "ax.set_facecolor(bg)\n",
    "ax.set_ymargin(0)\n",
    "ax.set_xlabel('Inventory')\n",
    "ax.set_ylabel('Probability')\n",
    "\n",
    "plt.show()"
   ]
  },
  {
   "cell_type": "markdown",
   "id": "70f0d28f",
   "metadata": {},
   "source": [
    "## Distribution Dynamics"
   ]
  },
  {
   "cell_type": "code",
   "execution_count": 61,
   "id": "bf240096",
   "metadata": {},
   "outputs": [],
   "source": [
    "# We now look at how the sequence of distributions evolves over time.\n",
    "def shift_forward_and_sample(x_init: int, \n",
    "                             params: ModelParameters, \n",
    "                             sample_dates, \n",
    "                             key: jnp.ndarray, \n",
    "                             num_firms: int =50_000, \n",
    "                             sim_length: int =750) -> jnp.ndarray:\n",
    "    # Initialize parameters.\n",
    "    s, S, μ, σ = params.s, params.S, params.μ, params.σ\n",
    "    X = res = jnp.full((num_firms, ), x_init)\n",
    "\n",
    "    # Use for loop to update X and collect samples.\n",
    "    for t in range(sim_length):\n",
    "        Z = random.normal(key, (num_firms, ))\n",
    "        D = jnp.exp(μ + σ * Z)\n",
    "\n",
    "        X = update_cross_section(params, X, D)\n",
    "        _, key = random.split(key)\n",
    "\n",
    "        # Draw a sample at the sample dates.\n",
    "        if (t+1 in sample_dates):\n",
    "            res = jnp.vstack((res, X))\n",
    "    \n",
    "    return res[1:]"
   ]
  },
  {
   "cell_type": "code",
   "execution_count": 63,
   "id": "acbf9dd5",
   "metadata": {},
   "outputs": [],
   "source": [
    "# Test it using baseline specification.\n",
    "sample_dates = 10, 50, 250, 500, 750\n",
    "X = shift_forward_and_sample(x_init, params, sample_dates, key)"
   ]
  },
  {
   "cell_type": "code",
   "execution_count": 88,
   "id": "cf243e2d",
   "metadata": {},
   "outputs": [
    {
     "data": {
      "image/png": "[encoded data removed]",
      "text/plain": [
       "<Figure size 640x480 with 1 Axes>"
      ]
     },
     "metadata": {},
     "output_type": "display_data"
    }
   ],
   "source": [
    "# Plot the output for distribution dynamics.\n",
    "fig, ax = plt.subplots()\n",
    "\n",
    "# Set colors.\n",
    "norm = plt.Normalize(vmin=0, vmax=len(sample_dates)-1)\n",
    "\n",
    "for t, date in enumerate(sample_dates):\n",
    "    counts, bins, patches = ax.hist(X[t, :], \n",
    "                                    bins=50, \n",
    "                                    density=True, \n",
    "                                    edgecolor='k', \n",
    "                                    alpha=0.7,\n",
    "                                    color=cm.Blues(norm(t)),\n",
    "                                    label=f'Cross-section at $t={date}$')\n",
    "\n",
    "    \n",
    "ax.legend(fancybox=False, edgecolor='k')\n",
    "ax.set_xlabel('Inventory')\n",
    "ax.set_ylabel('Probability')\n",
    "\n",
    "plt.show()"
   ]
  },
  {
   "cell_type": "markdown",
   "id": "cd320be1",
   "metadata": {},
   "source": [
    "## Restock Frequency"
   ]
  },
  {
   "cell_type": "code",
   "execution_count": 119,
   "id": "0d0e261d",
   "metadata": {},
   "outputs": [],
   "source": [
    "@jax.jit\n",
    "def update_stock(n_restock, X, params, D):\n",
    "    n_restock = jnp.where(X <= params.s,\n",
    "                          n_restock + 1,\n",
    "                          n_restock)\n",
    "    X = jnp.where(X <= params.s,\n",
    "                  jnp.maximum(params.S - D, 0),\n",
    "                  jnp.maximum(X - D, 0))\n",
    "    return n_restock, X, key\n",
    "\n",
    "def compute_freq(params, \n",
    "                 key,\n",
    "                 x_init=70,\n",
    "                 sim_length=50,\n",
    "                 num_firms=1_000_000):\n",
    "    \n",
    "    # Prepare initial arrays.\n",
    "    X = jnp.full((num_firms, ), x_init)\n",
    "\n",
    "    # Stack the restock counter on top of the inventory.\n",
    "    n_restock = jnp.zeros((num_firms, ))\n",
    "\n",
    "    # Use a for loop to perform the calculations on all states.\n",
    "    for t in range(sim_length):\n",
    "        Z = random.normal(key, (num_firms, ))\n",
    "        D = jnp.exp(params.μ + params.σ * Z)\n",
    "        n_restock, X, key = update_stock(n_restock, X, params, D)\n",
    "        key = random.fold_in(key, t)\n",
    "\n",
    "    return jnp.mean(n_restock > 1, axis=0)\n",
    "\n",
    "\n",
    "def compute_freq_fori(params, \n",
    "                      key, \n",
    "                      x_init=70,\n",
    "                      sim_length=50,\n",
    "                      num_firms=1_000_000):\n",
    "    \n",
    "    # Prepare initial arrays.\n",
    "    X_init = jnp.full((num_firms, ), x_init)\n",
    "    n_restock_init = jnp.zeros((num_firms, ))\n",
    "    \n",
    "    init = (n_restock_init, X_init, key)\n",
    "\n",
    "    def update_fori(t, output):\n",
    "        n_restock, X, key = output\n",
    "\n",
    "        # Update restock counts.\n",
    "        n_restock = jnp.where(X <= params.s,\n",
    "                              n_restock + 1,\n",
    "                              n_restock)\n",
    "        \n",
    "        # Draw shocks and update inventory.\n",
    "        Z = random.normal(key, shape=(num_firms, ))\n",
    "        D = jnp.exp(params.μ + params.σ * Z)\n",
    "        X = jnp.where(X <= params.s,\n",
    "                      jnp.maximum(params.S - D, 0),\n",
    "                      jnp.maximum(X - D, 0))\n",
    "        \n",
    "        # Update key.\n",
    "        key = random.fold_in(key, t)\n",
    "\n",
    "        return n_restock, X, key\n",
    "    \n",
    "    n_restock, X, key = lax.fori_loop(0, sim_length, update_fori, init)\n",
    "\n",
    "    return jnp.mean(n_restock > 1, axis=0)\n",
    "    \n"
   ]
  },
  {
   "cell_type": "code",
   "execution_count": 120,
   "id": "bde82f9e",
   "metadata": {},
   "outputs": [],
   "source": [
    "key = random.PRNGKey(27)"
   ]
  },
  {
   "cell_type": "code",
   "execution_count": 123,
   "id": "a87e3044",
   "metadata": {},
   "outputs": [
    {
     "name": "stdout",
     "output_type": "stream",
     "text": [
      "CPU times: user 1e+03 ns, sys: 2 μs, total: 3 μs\n",
      "Wall time: 5.01 μs\n",
      "Computed restock frequency = 0.4477230\n"
     ]
    }
   ],
   "source": [
    "%time\n",
    "freq = compute_freq(params, key).block_until_ready()\n",
    "print(f'Computed restock frequency = {freq:.7f}')"
   ]
  },
  {
   "cell_type": "code",
   "execution_count": 124,
   "id": "d7e304c3",
   "metadata": {},
   "outputs": [
    {
     "name": "stdout",
     "output_type": "stream",
     "text": [
      "CPU times: user 1 μs, sys: 2 μs, total: 3 μs\n",
      "Wall time: 6.2 μs\n",
      "Computed restock frequency = 0.4470170\n"
     ]
    }
   ],
   "source": [
    "%time\n",
    "freq = compute_freq_fori(params, key).block_until_ready()\n",
    "print(f'Computed restock frequency = {freq:.7f}')"
   ]
  },
  {
   "cell_type": "code",
   "execution_count": null,
   "id": "553bbea7",
   "metadata": {},
   "outputs": [],
   "source": []
  }
 ],
 "metadata": {
  "kernelspec": {
   "display_name": "base",
   "language": "python",
   "name": "python3"
  },
  "language_info": {
   "codemirror_mode": {
    "name": "ipython",
    "version": 3
   },
   "file_extension": ".py",
   "mimetype": "text/x-python",
   "name": "python",
   "nbconvert_exporter": "python",
   "pygments_lexer": "ipython3",
   "version": "3.12.7"
  }
 },
 "nbformat": 4,
 "nbformat_minor": 5
}
