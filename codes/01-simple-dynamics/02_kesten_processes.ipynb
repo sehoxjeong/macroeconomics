{
 "cells": [
  {
   "cell_type": "markdown",
   "id": "d6994534",
   "metadata": {},
   "source": [
    "# Kesten Processes and Firm Dynamics\n",
    "\n",
    "Seho Jeong, Sogang University"
   ]
  },
  {
   "cell_type": "code",
   "execution_count": 14,
   "id": "8c79742e",
   "metadata": {},
   "outputs": [],
   "source": [
    "import numpy as np\n",
    "import jax\n",
    "import jax.numpy as jnp\n",
    "from jax import random, lax\n",
    "import quantecon as qe\n",
    "from quantecon import tic, toc\n",
    "\n",
    "import matplotlib.pyplot as plt\n",
    "\n",
    "from typing import NamedTuple\n",
    "from functools import partial"
   ]
  },
  {
   "cell_type": "code",
   "execution_count": 2,
   "id": "032d15c4",
   "metadata": {},
   "outputs": [],
   "source": [
    "class Firm(NamedTuple):\n",
    "    μ_a: float = -0.5\n",
    "    σ_a: float = 0.1\n",
    "    μ_b: float = 0.0\n",
    "    σ_b: float = 0.5\n",
    "    μ_e: float = 0.5\n",
    "    σ_e: float = 0.5\n",
    "    s_bar: float = 1.0"
   ]
  },
  {
   "cell_type": "code",
   "execution_count": 3,
   "id": "056435fe",
   "metadata": {},
   "outputs": [],
   "source": [
    "# Update a cross-section of firms.\n",
    "@jax.jit\n",
    "def update_cross_section(s, a, b, e, firm):\n",
    "    μ_a, σ_a, μ_b, σ_b, μ_e, σ_e, s_bar = firm\n",
    "    s = jnp.where(s < s_bar, e, a * s + b)\n",
    "    return s"
   ]
  },
  {
   "cell_type": "code",
   "execution_count": 6,
   "id": "017512c9",
   "metadata": {},
   "outputs": [],
   "source": [
    "def generate_cross_section(firm, M=500_000, T=500, s_init=1.0, seed=123):\n",
    "    μ_a, σ_a, μ_b, σ_b, μ_e, σ_e, s_bar = firm\n",
    "    key = random.PRNGKey(seed)\n",
    "\n",
    "    # Initialize the cross-section to a common value.\n",
    "    s = jnp.full((M, ), s_init)\n",
    "\n",
    "    # Perform updates on s for time t.\n",
    "    for t in range(T):\n",
    "        key, *subkeys = random.split(key, 4)\n",
    "        a = μ_a + σ_a * random.normal(subkeys[0], (M, ))\n",
    "        b = μ_b + σ_b * random.normal(subkeys[1], (M, ))\n",
    "        e = μ_e + σ_e * random.normal(subkeys[2], (M, ))\n",
    "\n",
    "        # Exponentiate shocks.\n",
    "        a, b, e = jax.tree.map(jnp.exp, (a, b, e))\n",
    "\n",
    "        # Update the cross-section of firms.\n",
    "        s = update_cross_section(s, a, b, e, firm)\n",
    "    \n",
    "    return s"
   ]
  },
  {
   "cell_type": "code",
   "execution_count": 12,
   "id": "9024a3fa",
   "metadata": {},
   "outputs": [
    {
     "name": "stdout",
     "output_type": "stream",
     "text": [
      "TOC: Elapsed: 0:00:2.16\n"
     ]
    },
    {
     "data": {
      "text/plain": [
       "2.1664319038391113"
      ]
     },
     "execution_count": 12,
     "metadata": {},
     "output_type": "execute_result"
    }
   ],
   "source": [
    "firm = Firm()\n",
    "tic()\n",
    "data = generate_cross_section(firm).block_until_ready()\n",
    "toc()"
   ]
  },
  {
   "cell_type": "code",
   "execution_count": 20,
   "id": "0c332f6e",
   "metadata": {},
   "outputs": [],
   "source": [
    "@jax.jit\n",
    "def generate_cross_section_lax(firm, T=500, M=500_000, s_init=1.0, seed=123):\n",
    "    μ_a, σ_a, μ_b, σ_b, μ_e, σ_e, s_bar = firm\n",
    "    key = random.PRNGKey(seed)\n",
    "\n",
    "    # Initiate cross section.\n",
    "    s = jnp.full((M, ), s_init)\n",
    "\n",
    "    def update_cross_section(t, state):\n",
    "        s, key = state\n",
    "        key, *subkeys = jax.random.split(key, 4)\n",
    "\n",
    "        # Generate current random draws.\n",
    "        a = μ_a + σ_a * random.normal(subkeys[0], (M, ))\n",
    "        b = μ_b + σ_b * random.normal(subkeys[1], (M, ))\n",
    "        e = μ_e + σ_e * random.normal(subkeys[2], (M, ))\n",
    "\n",
    "        # Exponentiate them.\n",
    "        a, b, e = jax.tree.map(jnp.exp, (a, b, e))\n",
    "\n",
    "        # Pull out the t-th cross-section of shocks.\n",
    "        s = jnp.where(s < s_bar, e, a * s + b)\n",
    "        new_state = s, key\n",
    "        return new_state\n",
    "    \n",
    "    # Use fori_loop.\n",
    "    initial_state = s, key\n",
    "    final_s, final_key = lax.fori_loop(0, T, update_cross_section, initial_state)\n",
    "\n",
    "    return final_s"
   ]
  },
  {
   "cell_type": "code",
   "execution_count": 23,
   "id": "e66fa586",
   "metadata": {},
   "outputs": [
    {
     "name": "stdout",
     "output_type": "stream",
     "text": [
      "TOC: Elapsed: 0:00:2.24\n"
     ]
    },
    {
     "data": {
      "text/plain": [
       "2.2417409420013428"
      ]
     },
     "execution_count": 23,
     "metadata": {},
     "output_type": "execute_result"
    }
   ],
   "source": [
    "tic()\n",
    "data = generate_cross_section_lax(firm).block_until_ready()\n",
    "toc()"
   ]
  },
  {
   "cell_type": "code",
   "execution_count": 24,
   "id": "bdca9378",
   "metadata": {},
   "outputs": [
    {
     "data": {
      "image/png": "[encoded data removed]",
      "text/plain": [
       "<Figure size 640x480 with 1 Axes>"
      ]
     },
     "metadata": {},
     "output_type": "display_data"
    }
   ],
   "source": [
    "# Draw the rank-size plot and check the distribution.\n",
    "fig, ax = plt.subplots()\n",
    "\n",
    "rank_data, size_data = qe.rank_size(data, c=0.01)\n",
    "\n",
    "ax.loglog(size_data, rank_data, 'o', markersize=3.0, alpha=0.5)\n",
    "\n",
    "ax.set_xlabel('Firm size (log)')\n",
    "ax.set_ylabel('Firm rank (log)')\n",
    "\n",
    "plt.show()"
   ]
  },
  {
   "cell_type": "code",
   "execution_count": 25,
   "id": "07a4ebca",
   "metadata": {},
   "outputs": [],
   "source": [
    "# An alternative version of `generate_cross_section_lax()` where the entire sequence of random draws is generated at once.\n",
    "def generate_cross_section_all_at_once(firm, T=500, M=500_000, s_init=1.0, seed=123):\n",
    "    μ_a, σ_a, μ_b, σ_b, μ_e, σ_e, s_bar = firm\n",
    "    key = random.PRNGKey(seed)\n",
    "    subkey1, subkey2, subkey3 = random.split(key, 3)\n",
    "\n",
    "    # Initiate cross section.\n",
    "    s = jnp.full((M, ), s_init)\n",
    "\n",
    "    # Generate entire sequence of random draws.\n",
    "    a = μ_a + σ_a * random.normal(subkey1, (T, M))\n",
    "    b = μ_b + σ_b * random.normal(subkey2, (T, M))\n",
    "    e = μ_e + σ_e * random.normal(subkey3, (T, M))\n",
    "\n",
    "    # Exponentiate them.\n",
    "    a, b, e = jax.tree.map(jnp.exp, (a, b, e))\n",
    "\n",
    "    def update_cross_section(t, state):\n",
    "        # Pull out the t-th cross-section of shocks.\n",
    "        a_t, b_t, e_t = a[t], b[t], e[t]\n",
    "        state_new = jnp.where(state < s_bar, e_t, a_t * s + b_t)\n",
    "        return state_new\n",
    "    \n",
    "    # Use lax.scan to perform the calculations on all states.\n",
    "    s_final = lax.fori_loop(0, T, update_cross_section, s)\n",
    "    \n",
    "    return s_final"
   ]
  },
  {
   "cell_type": "code",
   "execution_count": 27,
   "id": "4422e0c4",
   "metadata": {},
   "outputs": [
    {
     "name": "stdout",
     "output_type": "stream",
     "text": [
      "TOC: Elapsed: 0:00:1.72\n"
     ]
    },
    {
     "data": {
      "text/plain": [
       "1.7271697521209717"
      ]
     },
     "execution_count": 27,
     "metadata": {},
     "output_type": "execute_result"
    }
   ],
   "source": [
    "tic()\n",
    "data = generate_cross_section_all_at_once(firm).block_until_ready()\n",
    "toc()"
   ]
  },
  {
   "cell_type": "markdown",
   "id": "f8947816",
   "metadata": {},
   "source": [
    "This method might or might not be faster. In general, the relative speed will depend on the size of the cross-section and the length of the simulation paths. However, this method is far more memory intensive. It will fail when $T$ and $M$ become sufficiently large."
   ]
  },
  {
   "cell_type": "code",
   "execution_count": null,
   "id": "f8c1a955",
   "metadata": {},
   "outputs": [],
   "source": []
  }
 ],
 "metadata": {
  "kernelspec": {
   "display_name": "base",
   "language": "python",
   "name": "python3"
  },
  "language_info": {
   "codemirror_mode": {
    "name": "ipython",
    "version": 3
   },
   "file_extension": ".py",
   "mimetype": "text/x-python",
   "name": "python",
   "nbconvert_exporter": "python",
   "pygments_lexer": "ipython3",
   "version": "3.12.7"
  }
 },
 "nbformat": 4,
 "nbformat_minor": 5
}
