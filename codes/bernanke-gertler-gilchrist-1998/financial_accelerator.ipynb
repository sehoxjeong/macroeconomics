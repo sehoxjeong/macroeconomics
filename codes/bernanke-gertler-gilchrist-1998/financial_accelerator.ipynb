{
 "cells": [
  {
   "cell_type": "code",
   "execution_count": 22,
   "id": "92857c9f-a1aa-4184-8bce-13a4cac700e5",
   "metadata": {},
   "outputs": [],
   "source": [
    "import numpy as np\n",
    "from scipy.optimize import fsolve\n",
    "from scipy.stats import norm\n",
    "\n",
    "import matplotlib.pyplot as plt\n",
    "import seaborn as sns\n",
    "\n",
    "from numba import njit, vectorize\n",
    "\n",
    "from dataclasses import dataclass"
   ]
  },
  {
   "cell_type": "markdown",
   "id": "599afe74-9374-42a3-8448-81d34cff9093",
   "metadata": {},
   "source": [
    "**Bernanke, Giltler and Gilchrist (1999, Handbook of Macro.)** \"The Financial Accelerator in a Quantitative Business Cycle Framework\""
   ]
  },
  {
   "cell_type": "code",
   "execution_count": 19,
   "id": "ed5eef41-3766-49e1-8827-fb20a3bd773f",
   "metadata": {},
   "outputs": [],
   "source": [
    "# BENCHMARK : BERNANKE, GILTLER and GILCHRIST (1999, Handbook of Macroeconomics)\n",
    "np.random.seed(101)\n",
    "\n",
    "β = 0.99               # quarterly discount factors\n",
    "r = 1/β - 1            # steady-state quarterly riskless rate\n",
    "η = 3.0                # labor supply elasticity\n",
    "α = 0.35               # capital share\n",
    "Ω = 1 - 0.64 / (1 - α) # to induce household labor share (1 - α)(1 - Ω) = 0.64\n",
    "# share of income accruing to entrepreneurs' labor = 0.01\n",
    "δ = 0.025              # quarterly depreciation rate for capital\n",
    "G_Y = 0.2              # G/Y; steady-state share of government expenditures in total output\n",
    "ς = 0.11               # coefficient on inflation of the policy rule\n",
    "ρ = 0.9                # autoregressive parameter of the policy rule\n",
    "ρa = 1.0               # serial correlation for the technology\n",
    "ρg = 0.95              # serial correlation for the government expenditure shocks\n",
    "ϕ = 0.25               # elasticity of the price of capital w.r.t. the investment capital ratio\n",
    "γ = 0.9728             # quarterly survival rate of firms\n",
    "μ = 0.12               # fraction of realized payoffs lost in bankruptcy\n",
    "θ = 0.75               # probability a firm does not change its price within a given period\n",
    "    \n",
    "\n",
    "class BGG1999Model(BGG1999Params):\n",
    "\n",
    "    def __init__(self):\n",
    "        super().__init__()\n",
    "\n",
    "    def"
   ]
  },
  {
   "cell_type": "code",
   "execution_count": 20,
   "id": "4b7e9f9d-922c-4eac-b5bf-f67a7336b83a",
   "metadata": {},
   "outputs": [],
   "source": [
    "model = BGG1999Model()"
   ]
  },
  {
   "cell_type": "code",
   "execution_count": 21,
   "id": "ea22b022-e09d-4cd0-bcb9-103dbc35443b",
   "metadata": {},
   "outputs": [
    {
     "data": {
      "text/plain": [
       "0.010101010101010166"
      ]
     },
     "execution_count": 21,
     "metadata": {},
     "output_type": "execute_result"
    }
   ],
   "source": [
    "model.r"
   ]
  },
  {
   "cell_type": "code",
   "execution_count": 25,
   "id": "beaa7140-a309-4c73-b5c2-3daa127121d6",
   "metadata": {},
   "outputs": [],
   "source": [
    "ω = np.exp(logω)"
   ]
  },
  {
   "cell_type": "markdown",
   "id": "072ace0e-9c51-4c06-903d-6a8c573f8f82",
   "metadata": {},
   "source": [
    "**Ottonello and Winberry (2020, ECTA)** \"Financial Heterogeneity and the Investment Channel of Monetary Policy\""
   ]
  },
  {
   "cell_type": "code",
   "execution_count": null,
   "id": "47c9cd07-a798-47a4-b1e5-3e279ceaece3",
   "metadata": {},
   "outputs": [],
   "source": [
    "# "
   ]
  }
 ],
 "metadata": {
  "kernelspec": {
   "display_name": "Python 3 (ipykernel)",
   "language": "python",
   "name": "python3"
  },
  "language_info": {
   "codemirror_mode": {
    "name": "ipython",
    "version": 3
   },
   "file_extension": ".py",
   "mimetype": "text/x-python",
   "name": "python",
   "nbconvert_exporter": "python",
   "pygments_lexer": "ipython3",
   "version": "3.11.7"
  }
 },
 "nbformat": 4,
 "nbformat_minor": 5
}
