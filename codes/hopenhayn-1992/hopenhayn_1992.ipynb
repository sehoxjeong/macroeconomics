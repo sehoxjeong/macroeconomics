{
 "cells": [
  {
   "cell_type": "markdown",
   "id": "fb0995c6",
   "metadata": {},
   "source": [
    "### The Hopenhayn 1992 Industry Equilibrium Model\n",
    "\n",
    "Seho Jeong, Sogang University\n",
    "\n",
    "References:\n",
    "- **Sargent, Thomas J. and John Stachurski. n.d.** \"The Hopenhayn Entry-Exit Model.\" Quantitative Economics with JAX. https://jax.quantecon.org/hopenhayn.html."
   ]
  },
  {
   "cell_type": "code",
   "execution_count": 9,
   "id": "a60fcc8b",
   "metadata": {},
   "outputs": [],
   "source": [
    "import numpy as np\n",
    "import jax\n",
    "import jax.numpy as jnp\n",
    "\n",
    "import matplotlib.pyplot as plt\n",
    "import seaborn as sns\n",
    "\n",
    "from collections import namedtuple\n",
    "from functools import partial\n",
    "\n",
    "import quantecon as qe"
   ]
  },
  {
   "cell_type": "code",
   "execution_count": 2,
   "id": "e9b95b0f",
   "metadata": {},
   "outputs": [],
   "source": [
    "jax.config.update('jax_enable_x64', True)"
   ]
  },
  {
   "cell_type": "code",
   "execution_count": 3,
   "id": "fb744879",
   "metadata": {},
   "outputs": [],
   "source": [
    "# Define customized colormap for plots.\n",
    "cm = ['#116FA1', '#2DC0D2', '#E0B266', '#00979F', '#70CAC6', '#005A7D']\n",
    "bg = '#F9F9F9'"
   ]
  },
  {
   "cell_type": "code",
   "execution_count": 5,
   "id": "af8255bc",
   "metadata": {},
   "outputs": [],
   "source": [
    "Parameters = namedtuple('Parameters', ['β',    # discount factor\n",
    "                                       'θ',    # labor productivity\n",
    "                                       'c_f',  # fixed operation cost\n",
    "                                       'c_e',  # entry cost\n",
    "                                       'w',    # wages\n",
    "                                       'μ_a',  # productivity shock location parameter\n",
    "                                       'σ_a',  # productivity shock scale parameter\n",
    "                                       'μ_e',  # entrants location parameter\n",
    "                                       'σ_e']) # entrants scale parameter \n",
    "\n",
    "Arrays = namedtuple('Arrays', ['zgrid',        # productivity grid\n",
    "                               'E_draws',      # entry size draws for Monte Carlo\n",
    "                               'A_draws'])     # productivity shock draws for Monte Carlo\n",
    "\n",
    "Model = namedtuple('Model', ['parameters',     # instance of Parameters\n",
    "                             'arrays'])        # instance of Arrays"
   ]
  },
  {
   "cell_type": "code",
   "execution_count": 48,
   "id": "4dacbe11",
   "metadata": {},
   "outputs": [],
   "source": [
    "def create_hopenhayn1992_model(β=0.95,          # discount factor\n",
    "                               θ=0.3,           # labor productivity\n",
    "                               c_f=4.0,         # fixed cost in production\n",
    "                               c_e=1.0,         # entry cost\n",
    "                               w=1.0,           # wages\n",
    "                               μ_a=-0.012,      # productivity shock location parameter\n",
    "                               σ_a=0.1,         # productivity shock scale parameter\n",
    "                               μ_e=1.0,         # entrants location parameter\n",
    "                               σ_e=0.2,         # entrants scale parameter\n",
    "                               zmin=0.0,        # min. of productivity grid\n",
    "                               zmax=5.0,          # max. of productivity grid\n",
    "                               znum=100,        # num. of grid points for productivity\n",
    "                               E_draw_size=200, # entry MC integration size\n",
    "                               A_draw_size=200, # productivity shock MC integration size\n",
    "                               seed=101):       # seed for MC draws\n",
    "    \"\"\" \n",
    "    Create an instance of the namedtuple `Model`.\n",
    "    \"\"\"\n",
    "    # Test the stability.\n",
    "    assert μ_a + σ_a ** 2 / (2 * (1 - θ)) < 0, 'Stabiilty condition fails.'\n",
    "\n",
    "    # Build grids and initialize a random number generator.\n",
    "    zgrid = jnp.linspace(zmin, zmax, znum)\n",
    "    key, subkey = jax.random.split(jax.random.PRNGKey(seed))\n",
    "\n",
    "    # Generate a sample of draws of A for Monte Carlo integration.\n",
    "    A_draws = jnp.exp(μ_a + σ_a * jax.random.normal(key, (A_draw_size, )))\n",
    "\n",
    "    # Generate a sample of draws from γ for Monte Carlo integration.\n",
    "    E_draws = jnp.exp(μ_e + σ_e * jax.random.normal(subkey, (E_draw_size, )))\n",
    "\n",
    "    # Build the `Model` and return.\n",
    "    parameters = Parameters(β, θ, c_f, c_e, w, μ_a, σ_a, μ_e, σ_e)\n",
    "    arrays = Arrays(zgrid, E_draws, A_draws)\n",
    "    model = Model(parameters, arrays)\n",
    "\n",
    "    return model"
   ]
  },
  {
   "cell_type": "code",
   "execution_count": 8,
   "id": "31ab6ed9",
   "metadata": {},
   "outputs": [],
   "source": [
    "# Write down functions for profits and outputs.\n",
    "\n",
    "@jax.jit\n",
    "def π(z, p, parameters):\n",
    "    \"\"\" \n",
    "    Profits for a firm\n",
    "    \"\"\"\n",
    "    # Unpack parameters.\n",
    "    β, θ, c_f, c_e, w, μ_a, σ_a, μ_e, σ_e = parameters\n",
    "\n",
    "    # Compute profits from the static profit maximization problem.\n",
    "    return (1 - θ) * (p * z) ** (1 / (1 - θ)) * (θ / w) ** (θ / (1 - θ)) - c_f\n",
    "\n",
    "@jax.jit\n",
    "def q(z, p, parameters):\n",
    "    \"\"\" \n",
    "    Output for a firm.\n",
    "    \"\"\"\n",
    "    # Unpack parameters.\n",
    "    β, θ, c_f, c_e, w, μ_a, σ_a, μ_e, σ_e = parameters\n",
    "\n",
    "    # Compute outputs from the static profit maximization problem.\n",
    "    return z ** (1 / (1 - θ)) * (p * θ / w) ** (θ / (1 - θ))"
   ]
  },
  {
   "cell_type": "code",
   "execution_count": 10,
   "id": "972b35a8",
   "metadata": {},
   "outputs": [],
   "source": [
    "@partial(jax.jit, static_argnums=(4, ))\n",
    "def update_cross_section(z_bar, z_vec, key, parameters, num_firms):\n",
    "\n",
    "    # Unpack parameters.\n",
    "    β, θ, c_f, c_e, w, μ_a, σ_a, μ_e, σ_e = parameters\n",
    "\n",
    "    # Update.\n",
    "    Z = jax.random.normal(key, (2, num_firms))\n",
    "    incumbent_draws = z_vec * jnp.exp(μ_a + σ_a * Z[0, :])\n",
    "    entrant_draws = z_vec * jnp.exp(μ_e + σ_e * Z[1, :])\n",
    "\n",
    "    return jnp.where(z_vec >= z_bar, incumbent_draws, entrant_draws)"
   ]
  },
  {
   "cell_type": "code",
   "execution_count": 11,
   "id": "daf7c078",
   "metadata": {},
   "outputs": [],
   "source": [
    "def simulate_firms(z_bar, parameters, arrays, sim_length=200, num_firms=1_000_000, seed=12):\n",
    "    \"\"\" \n",
    "    Simulate a cross-section of firms when the exit threshold is z_bar.\n",
    "    \"\"\"\n",
    "    # Set initial conditions to the threshold value.\n",
    "    z_vec = jnp.ones((num_firms, )) * z_bar\n",
    "    key = jax.random.PRNGKey(seed)\n",
    "\n",
    "    # Iterate forward in time.\n",
    "    for ti in range(sim_length):\n",
    "        key, subkey = jax.random.split(key)\n",
    "        z_vec = update_cross_section(z_bar, z_vec, subkey, parameters, num_firms)\n",
    "    \n",
    "    return z_vec"
   ]
  },
  {
   "cell_type": "code",
   "execution_count": 13,
   "id": "da0e6d7e",
   "metadata": {},
   "outputs": [],
   "source": [
    "@jax.jit\n",
    "def _compute_exp_value_at_z(V, z, arrays):\n",
    "    \"\"\" \n",
    "    Compute\n",
    "\n",
    "        E[V(z')|z] = E[V(Az)]\n",
    "\n",
    "    using linear interpolation and Monte Carlo.\n",
    "    \"\"\"\n",
    "    # Unpack arrays.\n",
    "    zgrid, E_draws, A_draws = arrays\n",
    "\n",
    "    # Set up V.\n",
    "    Az = A_draws * z\n",
    "    VAz = jnp.interp(Az, zgrid, V) # V(A_j z) for all j\n",
    "    \n",
    "    # Return mean.\n",
    "    return jnp.mean(VAz) # (1 / n) Σ_j V(A_j z)\n",
    "\n",
    "compute_exp_value_at_z = jax.vmap(_compute_exp_value_at_z, in_axes=(None, 0, None))\n",
    "\n",
    "@jax.jit\n",
    "def compute_exp_value(V, arrays):\n",
    "    \"\"\" \n",
    "    Compute\n",
    "    \n",
    "        E[V(z')|z] = E[V(Az)] for all z, as a vector.\n",
    "    \"\"\"\n",
    "    # Unpack arrays.\n",
    "    zgrid, E_draws, A_draws = arrays\n",
    "    return compute_exp_value_at_z(V, zgrid, arrays)"
   ]
  },
  {
   "cell_type": "code",
   "execution_count": 14,
   "id": "d999c4ef",
   "metadata": {},
   "outputs": [],
   "source": [
    "@jax.jit\n",
    "def T(V, p, parameters, arrays):\n",
    "    \"\"\" \n",
    "    Bellman operator\n",
    "    \"\"\"\n",
    "    # Unpack parameters and arrays.\n",
    "    β, θ, c_f, c_e, w, μ_a, σ_a, μ_e, σ_e = parameters\n",
    "    zgrid, E_draws, A_draws = arrays\n",
    "\n",
    "    # Compute TV.\n",
    "    EVAz = compute_exp_value(V, arrays)\n",
    "    return π(zgrid, p, parameters) + β * jnp.maximum(0.0, EVAz)"
   ]
  },
  {
   "cell_type": "code",
   "execution_count": 15,
   "id": "85f38c2c",
   "metadata": {},
   "outputs": [],
   "source": [
    "@jax.jit\n",
    "def get_threshold(V, arrays):\n",
    "    \"\"\" \n",
    "    Compute the exit threshold.\n",
    "    \"\"\"\n",
    "    # Unpack arrays.\n",
    "    zgrid, E_draws, A_draws = arrays\n",
    "\n",
    "    # Compute the exit threshold, i.e., z s.t. E[V(z')|z] = 0.\n",
    "    EVAz = compute_exp_value(V, arrays)\n",
    "    idx = jnp.searchsorted(EVAz, 0.0)\n",
    "    return zgrid[idx]"
   ]
  },
  {
   "cell_type": "code",
   "execution_count": 28,
   "id": "a4c9e611",
   "metadata": {},
   "outputs": [],
   "source": [
    "@jax.jit\n",
    "def value_function_iteration(p, V_init, parameters, arrays, tol=1e-6, max_iter=10_000):\n",
    "    \"\"\" \n",
    "    Implement the value function iteration to solve for the value function.\n",
    "    \"\"\"\n",
    "    # Unpack arrays.\n",
    "    zgrid, E_draws, A_draws = arrays\n",
    "\n",
    "    # Set up.\n",
    "    def cond_function(state):\n",
    "        iteration, V, error = state\n",
    "        return jnp.logical_and(iteration < max_iter, error > tol)\n",
    "    \n",
    "    def body_function(state):\n",
    "        iteration, V, error = state\n",
    "        V_new = T(V, p, parameters, arrays)\n",
    "        error = jnp.max(jnp.abs(V - V_new))\n",
    "        iteration += 1\n",
    "        return iteration, V_new, error\n",
    "    \n",
    "    # Loop till convergence.\n",
    "    init_state = 0, V_init, tol + 1\n",
    "    state = jax.lax.while_loop(cond_function, body_function, init_state)\n",
    "    iteration, V, error = state\n",
    "    return V"
   ]
  },
  {
   "cell_type": "code",
   "execution_count": 18,
   "id": "408b3c87",
   "metadata": {},
   "outputs": [],
   "source": [
    "@jax.jit\n",
    "def compute_net_entry_value(p, V_init, parameters, arrays):\n",
    "    \"\"\" \n",
    "    Returns the net value of entry, which is\n",
    "\n",
    "        ∫ V*(z, p) γ(dz) - c_e\n",
    "\n",
    "    This is the break-even condition for new entrants.\n",
    "    The argument V_init is used as an initial condition when computing V* for VFI.\n",
    "    \"\"\"\n",
    "    # Unpack parameters and arrays.\n",
    "    β, θ, c_f, c_e, w, μ_a, σ_a, μ_e, σ_e = parameters\n",
    "    zgrid, E_draws, A_draws = arrays\n",
    "\n",
    "    V_star = value_function_iteration(p, V_init, parameters, arrays)\n",
    "    V_z = jnp.interp(E_draws, zgrid, V_star)\n",
    "    EV_z = jnp.mean(V_z)\n",
    "    return EV_z - c_e, V_star"
   ]
  },
  {
   "cell_type": "code",
   "execution_count": 20,
   "id": "7c5ce182",
   "metadata": {},
   "outputs": [],
   "source": [
    "def compute_p_star(parameters, arrays, pmin=1.0, pmax=2.0, tol=1e-5):\n",
    "    \"\"\"\n",
    "    Compute the equilibrium entry price p* via bisection.\n",
    "    Return both p* and the corresponding value function V*, which is computed as a byproduct.\n",
    "    Implements the bisection root finding algorithm to find p*.\n",
    "    \"\"\"\n",
    "    # Unpack arrays.\n",
    "    zgrid, E_draws, A_draws = arrays\n",
    "\n",
    "    lower, upper = pmin, pmax\n",
    "    V_star = jnp.zeros_like(zgrid) # initial condition at first price guess.\n",
    "\n",
    "    while upper - lower > tol:\n",
    "        mid = 0.5 * (upper + lower)\n",
    "        entry_val, V_star = compute_net_entry_value(mid, V_star, parameters, arrays)\n",
    "        if entry_val > 0: \n",
    "            # Root is between lower and mid.\n",
    "            lower, upper = lower, mid\n",
    "        else: \n",
    "            # Root is between mid and upper.\n",
    "            lower, upper = mid, upper\n",
    "\n",
    "    p_star = 0.5 * (upper + lower)\n",
    "    return p_star, V_star"
   ]
  },
  {
   "cell_type": "code",
   "execution_count": 21,
   "id": "0a17ba46",
   "metadata": {},
   "outputs": [],
   "source": [
    "def compute_equilibrium_prices_and_quantities(model):\n",
    "    \"\"\"\n",
    "    Compute\n",
    "\n",
    "        1. The equilibrium outecomes for p*, V*, and z*, wehre z* is the equilibrium exit threshold z_bar(p*).\n",
    "        2. The scaling factor necessary to convert the stationary probability distribution μ into the equilibrium firms distribution μ* = sμ.\n",
    "        3. The equilibrium mass of entrants M* = μ*({z < z*})\n",
    "    \"\"\"\n",
    "    # Unpack the model.\n",
    "    parameters, arrays = model\n",
    "\n",
    "    # Compute prices and values.\n",
    "    p_star, V_star = compute_p_star(parameters, arrays)\n",
    "\n",
    "    # Get z_star = z_bar(p_star), the equilibrium exit threshold.\n",
    "    z_star = get_threshold(V_star, arrays)\n",
    "\n",
    "    # Generate an array of draws from μ, the normalized stationary distribution.\n",
    "    z_sample = simulate_firms(z_star, parameters, arrays)\n",
    "\n",
    "    # Compute s to scale μ.\n",
    "    demand = 1 / p_star\n",
    "    pre_normalized_supply = jnp.mean(q(z_sample, p_star, parameters))\n",
    "    s = demand / pre_normalized_supply\n",
    "\n",
    "    # Compute M* = μ*({z < z*}).\n",
    "    M_star = s *  jnp.mean(z_sample < z_star)\n",
    "\n",
    "    return p_star, V_star, z_star, z_sample, s, M_star"
   ]
  },
  {
   "cell_type": "code",
   "execution_count": 26,
   "id": "76dff27d",
   "metadata": {},
   "outputs": [],
   "source": [
    "# Create an instance of the model.\n",
    "model = create_hopenhayn1992_model()\n",
    "parameters, arrays = model"
   ]
  },
  {
   "cell_type": "code",
   "execution_count": 33,
   "id": "e206a05d",
   "metadata": {},
   "outputs": [
    {
     "name": "stdout",
     "output_type": "stream",
     "text": [
      "CPU times: user 14.5 ms, sys: 2.57 ms, total: 17.1 ms\n",
      "Wall time: 8.58 ms\n"
     ]
    }
   ],
   "source": [
    "p = 2.0\n",
    "V_init = jnp.zeros_like(arrays.zgrid)\n",
    "%time V_star = value_function_iteration(p, V_init, parameters, arrays).block_until_ready()"
   ]
  },
  {
   "cell_type": "code",
   "execution_count": 41,
   "id": "e0e81648",
   "metadata": {},
   "outputs": [
    {
     "data": {
      "image/png": "[encoded data removed]",
      "text/plain": [
       "<Figure size 640x480 with 1 Axes>"
      ]
     },
     "metadata": {},
     "output_type": "display_data"
    }
   ],
   "source": [
    "pmin, pmax, pnum = 1.0, 2.0, 20\n",
    "p_vec = jnp.linspace(pmin, pmax, pnum)\n",
    "\n",
    "entry_vals = []\n",
    "V_star = jnp.zeros_like(arrays.zgrid) # initial condition at first price guess\n",
    "\n",
    "for i, p in enumerate(p_vec):\n",
    "    entry_val, V_star = compute_net_entry_value(p, V_star, parameters, arrays)\n",
    "    entry_vals.append(entry_val)\n",
    "\n",
    "# Plot the equilibrium price at given parameters.\n",
    "fig, ax = plt.subplots()\n",
    "\n",
    "ax.plot(p_vec, entry_vals, label='net value of entry', color=cm[0])\n",
    "ax.axhline(0, color='k', ls='--', label='break even')\n",
    "\n",
    "ax.legend(fancybox=False, edgecolor='k')\n",
    "ax.set_facecolor(bg)\n",
    "ax.set_xmargin(0)\n",
    "ax.set_xlabel('Price')\n",
    "ax.set_ylabel('Value')\n",
    "\n",
    "plt.show()"
   ]
  },
  {
   "cell_type": "code",
   "execution_count": 43,
   "id": "ec93be44",
   "metadata": {},
   "outputs": [
    {
     "name": "stdout",
     "output_type": "stream",
     "text": [
      "CPU times: user 13.1 s, sys: 581 ms, total: 13.7 s\n",
      "Wall time: 1.52 s\n"
     ]
    }
   ],
   "source": [
    "%%time\n",
    "# Compute the equilibrium.\n",
    "p_star, V_star, z_star, z_sample, s, M_star = compute_equilibrium_prices_and_quantities(model)"
   ]
  },
  {
   "cell_type": "code",
   "execution_count": 45,
   "id": "475575c7",
   "metadata": {},
   "outputs": [
    {
     "name": "stdout",
     "output_type": "stream",
     "text": [
      "1.4457054138183594\n"
     ]
    }
   ],
   "source": [
    "print(p_star)"
   ]
  },
  {
   "cell_type": "code",
   "execution_count": 47,
   "id": "74f00e48",
   "metadata": {},
   "outputs": [
    {
     "data": {
      "image/png": "[encoded data removed]",
      "text/plain": [
       "<Figure size 640x480 with 1 Axes>"
      ]
     },
     "metadata": {},
     "output_type": "display_data"
    }
   ],
   "source": [
    "fig, ax = plt.subplots()\n",
    "\n",
    "ax.plot(arrays.zgrid, V_star, label=r'$z \\mapsto V^*(z, p^*)$', color=cm[0])\n",
    "\n",
    "ax.legend(fancybox=False, edgecolor='k')\n",
    "ax.set_facecolor(bg)\n",
    "ax.set_xmargin(0)\n",
    "ax.set_xlabel('Productivity')\n",
    "ax.set_ylabel('Firm value')\n",
    "\n",
    "plt.show()"
   ]
  },
  {
   "cell_type": "code",
   "execution_count": 56,
   "id": "f7c4a116",
   "metadata": {},
   "outputs": [
    {
     "data": {
      "image/png": "[encoded data removed]",
      "text/plain": [
       "<Figure size 640x480 with 1 Axes>"
      ]
     },
     "metadata": {},
     "output_type": "display_data"
    }
   ],
   "source": [
    "# Plot the firm size distribution.\n",
    "\n",
    "output_dist = q(z_sample, p_star, parameters)\n",
    "\n",
    "fig, ax = plt.subplots()\n",
    "\n",
    "ax.hist(jnp.log(output_dist), bins=100, density=True, label='firm size distribution', color=cm[0])\n",
    "\n",
    "ax.legend(fancybox=False, edgecolor='k')\n",
    "ax.set_facecolor(bg)\n",
    "ax.set_xlabel('log output')\n",
    "ax.set_ylabel('Frequency')\n",
    "\n",
    "plt.show()"
   ]
  },
  {
   "cell_type": "code",
   "execution_count": null,
   "id": "cae201a8",
   "metadata": {},
   "outputs": [],
   "source": []
  }
 ],
 "metadata": {
  "kernelspec": {
   "display_name": "base",
   "language": "python",
   "name": "python3"
  },
  "language_info": {
   "codemirror_mode": {
    "name": "ipython",
    "version": 3
   },
   "file_extension": ".py",
   "mimetype": "text/x-python",
   "name": "python",
   "nbconvert_exporter": "python",
   "pygments_lexer": "ipython3",
   "version": "3.12.7"
  }
 },
 "nbformat": 4,
 "nbformat_minor": 5
}
